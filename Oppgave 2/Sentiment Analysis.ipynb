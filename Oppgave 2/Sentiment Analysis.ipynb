{
 "cells": [
  {
   "cell_type": "code",
   "execution_count": 23,
   "metadata": {
    "collapsed": true
   },
   "outputs": [],
   "source": [
    "import json\n",
    "data = {}\n",
    "for name in [\"train\", \"dev\", \"test\"]:\n",
    "    with open(\"{0}.json\".format(name)) as infile:\n",
    "        data[name] = json.load(infile)"
   ]
  },
  {
   "cell_type": "code",
   "execution_count": null,
   "outputs": [],
   "source": [
    "import numpy as np\n",
    "import re\n",
    "import nltk\n",
    "from sklearn.datasets import load_files\n",
    "import pandas as pd\n",
    "import pickle\n",
    "from nltk.corpus import stopwords"
   ],
   "metadata": {
    "collapsed": false
   }
  },
  {
   "cell_type": "code",
   "execution_count": 24,
   "outputs": [],
   "source": [
    "train = pd.DataFrame.from_dict(data[\"train\"])\n",
    "\n",
    "X = train['text']\n",
    "y = train['label']"
   ],
   "metadata": {
    "collapsed": false
   }
  },
  {
   "cell_type": "code",
   "execution_count": 25,
   "outputs": [],
   "source": [
    "documents = []\n",
    "\n",
    "from nltk.stem import WordNetLemmatizer\n",
    "\n",
    "stemmer = WordNetLemmatizer()\n",
    "\n",
    "for sen in range(0, len(X)):\n",
    "    # Remove all the special characters\n",
    "    document = re.sub(r'\\W', ' ', str(X[sen]))\n",
    "\n",
    "    # remove all single characters\n",
    "    document = re.sub(r'\\s+[a-zA-Z]\\s+', ' ', document)\n",
    "\n",
    "    # Remove single characters from the start\n",
    "    document = re.sub(r'\\^[a-zA-Z]\\s+', ' ', document)\n",
    "\n",
    "    # Substituting multiple spaces with single space\n",
    "    document = re.sub(r'\\s+', ' ', document, flags=re.I)\n",
    "\n",
    "    # Removing prefixed 'b'\n",
    "    document = re.sub(r'^b\\s+', '', document)\n",
    "\n",
    "    # Converting to Lowercase\n",
    "    document = document.lower()\n",
    "\n",
    "    # Lemmatization\n",
    "    document = document.split()\n",
    "\n",
    "    document = [stemmer.lemmatize(word) for word in document]\n",
    "    document = ' '.join(document)\n",
    "\n",
    "    documents.append(document)"
   ],
   "metadata": {
    "collapsed": false
   }
  },
  {
   "cell_type": "code",
   "execution_count": 26,
   "outputs": [],
   "source": [
    "from sklearn.feature_extraction.text import CountVectorizer\n",
    "vectorizer = CountVectorizer(max_features=2000, min_df = 5, max_df = 0.7)\n",
    "X = vectorizer.fit_transform(documents).toarray()"
   ],
   "metadata": {
    "collapsed": false
   }
  },
  {
   "cell_type": "code",
   "execution_count": 27,
   "outputs": [],
   "source": [
    "from sklearn.feature_extraction.text import TfidfTransformer\n",
    "\n",
    "tfidfconverter = TfidfTransformer()\n",
    "X_TFIDF = tfidfconverter.fit_transform(X).toarray()"
   ],
   "metadata": {
    "collapsed": false
   }
  },
  {
   "cell_type": "code",
   "execution_count": 28,
   "outputs": [],
   "source": [
    "from sklearn.model_selection import train_test_split\n",
    "X_train, X_test, y_train, y_test = train_test_split(X, y, test_size=0.2, random_state=0)\n",
    "\n",
    "X_train_TFIDF, X_test_TFIDF, y_train_TFIDF, y_test_TFIDF = train_test_split(X_TFIDF, y, test_size=0.2, random_state=0)"
   ],
   "metadata": {
    "collapsed": false
   }
  },
  {
   "cell_type": "code",
   "execution_count": 29,
   "outputs": [],
   "source": [
    "from sklearn.naive_bayes import MultinomialNB\n",
    "from sklearn.naive_bayes import BernoulliNB\n",
    "\n",
    "classifierM = MultinomialNB()\n",
    "classifierM.fit(X_train, y_train)\n",
    "y_predM = classifierM.predict(X_test)\n",
    "\n",
    "classifierM = MultinomialNB()\n",
    "classifierM.fit(X_train_TFIDF, y_train_TFIDF)\n",
    "y_pred_TFIDF = classifierM.predict(X_test_TFIDF)\n",
    "\n",
    "classifierB = BernoulliNB()\n",
    "classifierB.fit(X_train, y_train)\n",
    "y_predB = classifierB.predict(X_test)"
   ],
   "metadata": {
    "collapsed": false
   }
  },
  {
   "cell_type": "code",
   "execution_count": 30,
   "outputs": [
    {
     "name": "stdout",
     "output_type": "stream",
     "text": [
      "0.6282131661442006\n",
      "0.6025078369905956\n",
      "0.606269592476489\n"
     ]
    }
   ],
   "source": [
    "from sklearn.metrics import classification_report, confusion_matrix, accuracy_score\n",
    "\n",
    "print(accuracy_score(y_test, y_predM))\n",
    "print(accuracy_score(y_test, y_predB))\n",
    "print(accuracy_score(y_test_TFIDF, y_pred_TFIDF))"
   ],
   "metadata": {
    "collapsed": false
   }
  },
  {
   "cell_type": "code",
   "execution_count": 31,
   "outputs": [
    {
     "name": "stdout",
     "output_type": "stream",
     "text": [
      "[[ 97 105  61]\n",
      " [ 57 611 151]\n",
      " [ 43 176 294]]\n",
      "[[ 88 107  68]\n",
      " [ 85 615 119]\n",
      " [ 55 200 258]]\n",
      "[[ 15 184  64]\n",
      " [  5 730  84]\n",
      " [  4 287 222]]\n"
     ]
    }
   ],
   "source": [
    "print(confusion_matrix(y_test,y_predM))\n",
    "print(confusion_matrix(y_test,y_predB))\n",
    "print(confusion_matrix(y_test_TFIDF,y_pred_TFIDF))"
   ],
   "metadata": {
    "collapsed": false
   }
  },
  {
   "cell_type": "code",
   "execution_count": 32,
   "outputs": [
    {
     "name": "stdout",
     "output_type": "stream",
     "text": [
      "              precision    recall  f1-score   support\n",
      "\n",
      "    Negative       0.49      0.37      0.42       263\n",
      "     Neutral       0.68      0.75      0.71       819\n",
      "    Positive       0.58      0.57      0.58       513\n",
      "\n",
      "    accuracy                           0.63      1595\n",
      "   macro avg       0.59      0.56      0.57      1595\n",
      "weighted avg       0.62      0.63      0.62      1595\n",
      "\n",
      "              precision    recall  f1-score   support\n",
      "\n",
      "    Negative       0.39      0.33      0.36       263\n",
      "     Neutral       0.67      0.75      0.71       819\n",
      "    Positive       0.58      0.50      0.54       513\n",
      "\n",
      "    accuracy                           0.60      1595\n",
      "   macro avg       0.54      0.53      0.53      1595\n",
      "weighted avg       0.59      0.60      0.60      1595\n",
      "\n",
      "              precision    recall  f1-score   support\n",
      "\n",
      "    Negative       0.62      0.06      0.10       263\n",
      "     Neutral       0.61      0.89      0.72       819\n",
      "    Positive       0.60      0.43      0.50       513\n",
      "\n",
      "    accuracy                           0.61      1595\n",
      "   macro avg       0.61      0.46      0.44      1595\n",
      "weighted avg       0.61      0.61      0.55      1595\n",
      "\n"
     ]
    }
   ],
   "source": [
    "print(classification_report(y_test,y_predM))\n",
    "print(classification_report(y_test,y_predB))\n",
    "print(classification_report(y_test_TFIDF,y_pred_TFIDF))"
   ],
   "metadata": {
    "collapsed": false
   }
  },
  {
   "cell_type": "code",
   "execution_count": null,
   "outputs": [],
   "source": [],
   "metadata": {
    "collapsed": false
   }
  }
 ],
 "metadata": {
  "kernelspec": {
   "display_name": "base",
   "language": "python",
   "name": "python3"
  },
  "language_info": {
   "codemirror_mode": {
    "name": "ipython",
    "version": 3
   },
   "file_extension": ".py",
   "mimetype": "text/x-python",
   "name": "python",
   "nbconvert_exporter": "python",
   "pygments_lexer": "ipython3",
   "version": "3.9.13"
  },
  "vscode": {
   "interpreter": {
    "hash": "fc1f7c21504a34dc0c745a9195bd709da13cda6a059cd46dc7fea8e2a656e7c6"
   }
  }
 },
 "nbformat": 4,
 "nbformat_minor": 0
}
