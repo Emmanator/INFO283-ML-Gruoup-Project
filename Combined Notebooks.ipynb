{
 "cells": [
  {
   "cell_type": "markdown",
   "id": "f8e59927",
   "metadata": {},
   "source": [
    "# EXAM INFO284 - 2023 SPRING\n",
    "Candidates: 157, 138, 276"
   ]
  },
  {
   "cell_type": "markdown",
   "id": "a42d2434",
   "metadata": {},
   "source": [
    "# Table of contents\n",
    "1. [Task 1 - Mushroom Classification](#task1)  \n",
    "    1.1 [Data set](#t1dataset)  \n",
    "    1.2 [Imports](#task1imports)  \n",
    "    1.3 [Preparing Data](#task1pdata)  \n",
    "    1.4 [The Models](#task1models)  \n",
    "    1.5 [Feature Selection](#task1feature)  \n",
    "    1.6 [Results](#task1results)  \n",
    "2. [Task 2 - Sentiment Analysis](#task2)  \n",
    "    2.1 [Data set](#assign2dataset)  \n",
    "    2.2 [Data Analysis](#assign2dataanalysis)  \n",
    "    2.3 [Vectorizer](#assign2vectorizer)  \n",
    "    2.4 [Data Visualization](#assign2datavis)  \n",
    "    2.5 [Classifier](#assign2classifier)  \n",
    "    2.6 [Resampling](#assign2resampling)  \n",
    "    2.7 [Result Discussion](#assign2result)  \n",
    "3. [Task 3 - Convolutional Neural Network (CNN)](#task3)  \n",
    "    3.1 [Loading and Preprocessing CIFAR-10](#CIFAR-10)  \n",
    "    3.2 [CNN LeNet-5 Inspired Architecture](#CNN)  \n",
    "    3.3 [Train Function](#trainfunction)  \n",
    "    3.4 [Compute Accuracy](#computeaccuracy)  \n",
    "    3.5 [Compute Prediction](#computeprediction)  \n",
    "    3.6 [Confusion Matrix](#CM)  \n",
    "    3.7 [Dataloaders](#DL)  \n",
    "    3.8 [Running the train function](#runtrain)  \n",
    "    3.9 [Results](#results)  \n",
    "   3.10 [Clasification of a new independent picture of Airplane](#newimgs)  "
   ]
  },
  {
   "cell_type": "markdown",
   "id": "0037b1a8",
   "metadata": {},
   "source": [
    "# Task 1 - Mushroom classification <a name='task1'></a>\n",
    "In this task we are making three classification models on the Mushroom dataset, we have decided on using KNN, RandomForestClassifier and BernoulliNB. We will use these models to predict whether the mushroom is edible or not based on these features. \n"
   ]
  },
  {
   "cell_type": "markdown",
   "id": "06db2b75",
   "metadata": {},
   "source": [
    "## 1.1 The Data-set <a name='t1dataset'></a>\n",
    "\n",
    "The dataset contains information about different mushrooms and their edibility. It consists of over 8122 instances, which are the mushrooms, and 22 features that represents a characteristic of the mushrooms, like odor, cap shape, gill size and more.\n",
    " \n",
    "Before we start building the classification models, we will be exploring the dataset, get an understanding of what it contains, then clean the data and prepare the data for modeling.\n"
   ]
  },
  {
   "cell_type": "markdown",
   "id": "40853b29",
   "metadata": {},
   "source": [
    "## 1.2 Imports <a name='task1imports'></a>\n",
    "\n",
    "We import the modules and libaries that will be used. \n",
    "Panda is good at handeling large data.\n",
    "\n",
    "We are also using the sklearn liberary for all classification and is easy to use when implementing various machine learning algorithms. In this task we mainly use sklearn because it gives us a wide range of classifiers that we wish to use on our dataset. While the liberary also gives us tools, like LabelEncoder, to prepare the data, We will also be using it when evaluating the performance of these classifing models. "
   ]
  },
  {
   "cell_type": "code",
   "execution_count": 22,
   "id": "6fe855a0",
   "metadata": {},
   "outputs": [],
   "source": [
    "import pandas as pd # Pandas provides a wide range of tools, makes it easy to explore and visulize data\n",
    "import matplotlib.pyplot as plt\n",
    "from sklearn.model_selection import train_test_split\n",
    "from sklearn.preprocessing import LabelEncoder\n",
    "from sklearn.metrics import classification_report, accuracy_score\n",
    "from sklearn.exceptions import DataConversionWarning\n",
    "from warnings import simplefilter\n",
    "simplefilter(action='ignore', category=FutureWarning)\n",
    "simplefilter(action='ignore', category=DataConversionWarning)"
   ]
  },
  {
   "cell_type": "markdown",
   "id": "b723a0f4",
   "metadata": {},
   "source": [
    "## 1.3 Preparing data <a name='task1pdata'></a>"
   ]
  },
  {
   "cell_type": "code",
   "execution_count": 23,
   "id": "e9364688",
   "metadata": {},
   "outputs": [
    {
     "data": {
      "text/html": [
       "<div>\n",
       "<style scoped>\n",
       "    .dataframe tbody tr th:only-of-type {\n",
       "        vertical-align: middle;\n",
       "    }\n",
       "\n",
       "    .dataframe tbody tr th {\n",
       "        vertical-align: top;\n",
       "    }\n",
       "\n",
       "    .dataframe thead th {\n",
       "        text-align: right;\n",
       "    }\n",
       "</style>\n",
       "<table border=\"1\" class=\"dataframe\">\n",
       "  <thead>\n",
       "    <tr style=\"text-align: right;\">\n",
       "      <th></th>\n",
       "      <th>e</th>\n",
       "      <th>x</th>\n",
       "      <th>s</th>\n",
       "      <th>y</th>\n",
       "      <th>t</th>\n",
       "      <th>a</th>\n",
       "      <th>f</th>\n",
       "      <th>c</th>\n",
       "      <th>b</th>\n",
       "      <th>k</th>\n",
       "      <th>...</th>\n",
       "      <th>s.2</th>\n",
       "      <th>w</th>\n",
       "      <th>w.1</th>\n",
       "      <th>p</th>\n",
       "      <th>w.2</th>\n",
       "      <th>o</th>\n",
       "      <th>p.1</th>\n",
       "      <th>n</th>\n",
       "      <th>n.1</th>\n",
       "      <th>g</th>\n",
       "    </tr>\n",
       "  </thead>\n",
       "  <tbody>\n",
       "    <tr>\n",
       "      <th>0</th>\n",
       "      <td>e</td>\n",
       "      <td>b</td>\n",
       "      <td>s</td>\n",
       "      <td>w</td>\n",
       "      <td>t</td>\n",
       "      <td>l</td>\n",
       "      <td>f</td>\n",
       "      <td>c</td>\n",
       "      <td>b</td>\n",
       "      <td>n</td>\n",
       "      <td>...</td>\n",
       "      <td>s</td>\n",
       "      <td>w</td>\n",
       "      <td>w</td>\n",
       "      <td>p</td>\n",
       "      <td>w</td>\n",
       "      <td>o</td>\n",
       "      <td>p</td>\n",
       "      <td>n</td>\n",
       "      <td>n</td>\n",
       "      <td>m</td>\n",
       "    </tr>\n",
       "    <tr>\n",
       "      <th>1</th>\n",
       "      <td>p</td>\n",
       "      <td>x</td>\n",
       "      <td>y</td>\n",
       "      <td>w</td>\n",
       "      <td>t</td>\n",
       "      <td>p</td>\n",
       "      <td>f</td>\n",
       "      <td>c</td>\n",
       "      <td>n</td>\n",
       "      <td>n</td>\n",
       "      <td>...</td>\n",
       "      <td>s</td>\n",
       "      <td>w</td>\n",
       "      <td>w</td>\n",
       "      <td>p</td>\n",
       "      <td>w</td>\n",
       "      <td>o</td>\n",
       "      <td>p</td>\n",
       "      <td>k</td>\n",
       "      <td>s</td>\n",
       "      <td>u</td>\n",
       "    </tr>\n",
       "    <tr>\n",
       "      <th>2</th>\n",
       "      <td>e</td>\n",
       "      <td>x</td>\n",
       "      <td>s</td>\n",
       "      <td>g</td>\n",
       "      <td>f</td>\n",
       "      <td>n</td>\n",
       "      <td>f</td>\n",
       "      <td>w</td>\n",
       "      <td>b</td>\n",
       "      <td>k</td>\n",
       "      <td>...</td>\n",
       "      <td>s</td>\n",
       "      <td>w</td>\n",
       "      <td>w</td>\n",
       "      <td>p</td>\n",
       "      <td>w</td>\n",
       "      <td>o</td>\n",
       "      <td>e</td>\n",
       "      <td>n</td>\n",
       "      <td>a</td>\n",
       "      <td>g</td>\n",
       "    </tr>\n",
       "    <tr>\n",
       "      <th>3</th>\n",
       "      <td>e</td>\n",
       "      <td>x</td>\n",
       "      <td>y</td>\n",
       "      <td>y</td>\n",
       "      <td>t</td>\n",
       "      <td>a</td>\n",
       "      <td>f</td>\n",
       "      <td>c</td>\n",
       "      <td>b</td>\n",
       "      <td>n</td>\n",
       "      <td>...</td>\n",
       "      <td>s</td>\n",
       "      <td>w</td>\n",
       "      <td>w</td>\n",
       "      <td>p</td>\n",
       "      <td>w</td>\n",
       "      <td>o</td>\n",
       "      <td>p</td>\n",
       "      <td>k</td>\n",
       "      <td>n</td>\n",
       "      <td>g</td>\n",
       "    </tr>\n",
       "    <tr>\n",
       "      <th>4</th>\n",
       "      <td>e</td>\n",
       "      <td>b</td>\n",
       "      <td>s</td>\n",
       "      <td>w</td>\n",
       "      <td>t</td>\n",
       "      <td>a</td>\n",
       "      <td>f</td>\n",
       "      <td>c</td>\n",
       "      <td>b</td>\n",
       "      <td>g</td>\n",
       "      <td>...</td>\n",
       "      <td>s</td>\n",
       "      <td>w</td>\n",
       "      <td>w</td>\n",
       "      <td>p</td>\n",
       "      <td>w</td>\n",
       "      <td>o</td>\n",
       "      <td>p</td>\n",
       "      <td>k</td>\n",
       "      <td>n</td>\n",
       "      <td>m</td>\n",
       "    </tr>\n",
       "  </tbody>\n",
       "</table>\n",
       "<p>5 rows × 23 columns</p>\n",
       "</div>"
      ],
      "text/plain": [
       "   e  x  s  y  t  a  f  c  b  k  ... s.2  w w.1  p w.2  o p.1  n n.1  g\n",
       "0  e  b  s  w  t  l  f  c  b  n  ...   s  w   w  p   w  o   p  n   n  m\n",
       "1  p  x  y  w  t  p  f  c  n  n  ...   s  w   w  p   w  o   p  k   s  u\n",
       "2  e  x  s  g  f  n  f  w  b  k  ...   s  w   w  p   w  o   e  n   a  g\n",
       "3  e  x  y  y  t  a  f  c  b  n  ...   s  w   w  p   w  o   p  k   n  g\n",
       "4  e  b  s  w  t  a  f  c  b  g  ...   s  w   w  p   w  o   p  k   n  m\n",
       "\n",
       "[5 rows x 23 columns]"
      ]
     },
     "execution_count": 23,
     "metadata": {},
     "output_type": "execute_result"
    }
   ],
   "source": [
    "#reading the csv mushroom dataset\n",
    "mushroom = pd.read_csv('agaricus-lepiota.csv')\n",
    "df= pd.DataFrame(mushroom)\n",
    "mushroom.head()"
   ]
  },
  {
   "cell_type": "code",
   "execution_count": 3,
   "id": "3bcddd1c",
   "metadata": {},
   "outputs": [
    {
     "data": {
      "text/html": [
       "<div>\n",
       "<style scoped>\n",
       "    .dataframe tbody tr th:only-of-type {\n",
       "        vertical-align: middle;\n",
       "    }\n",
       "\n",
       "    .dataframe tbody tr th {\n",
       "        vertical-align: top;\n",
       "    }\n",
       "\n",
       "    .dataframe thead th {\n",
       "        text-align: right;\n",
       "    }\n",
       "</style>\n",
       "<table border=\"1\" class=\"dataframe\">\n",
       "  <thead>\n",
       "    <tr style=\"text-align: right;\">\n",
       "      <th></th>\n",
       "      <th>class</th>\n",
       "      <th>cap_shape</th>\n",
       "      <th>cap_surface</th>\n",
       "      <th>cap_color</th>\n",
       "      <th>bruised</th>\n",
       "      <th>odor</th>\n",
       "      <th>gill_attachment</th>\n",
       "      <th>gill_spacing</th>\n",
       "      <th>gill_size</th>\n",
       "      <th>gill_color</th>\n",
       "      <th>...</th>\n",
       "      <th>stalk_surface_below_ring</th>\n",
       "      <th>stalk_color_above_ring</th>\n",
       "      <th>stalk_color_below_ring</th>\n",
       "      <th>veil_type</th>\n",
       "      <th>veil_color</th>\n",
       "      <th>ring_number</th>\n",
       "      <th>ring-type</th>\n",
       "      <th>spore_print_color</th>\n",
       "      <th>population</th>\n",
       "      <th>habitat</th>\n",
       "    </tr>\n",
       "  </thead>\n",
       "  <tbody>\n",
       "    <tr>\n",
       "      <th>0</th>\n",
       "      <td>e</td>\n",
       "      <td>b</td>\n",
       "      <td>s</td>\n",
       "      <td>w</td>\n",
       "      <td>t</td>\n",
       "      <td>l</td>\n",
       "      <td>f</td>\n",
       "      <td>c</td>\n",
       "      <td>b</td>\n",
       "      <td>n</td>\n",
       "      <td>...</td>\n",
       "      <td>s</td>\n",
       "      <td>w</td>\n",
       "      <td>w</td>\n",
       "      <td>p</td>\n",
       "      <td>w</td>\n",
       "      <td>o</td>\n",
       "      <td>p</td>\n",
       "      <td>n</td>\n",
       "      <td>n</td>\n",
       "      <td>m</td>\n",
       "    </tr>\n",
       "    <tr>\n",
       "      <th>1</th>\n",
       "      <td>p</td>\n",
       "      <td>x</td>\n",
       "      <td>y</td>\n",
       "      <td>w</td>\n",
       "      <td>t</td>\n",
       "      <td>p</td>\n",
       "      <td>f</td>\n",
       "      <td>c</td>\n",
       "      <td>n</td>\n",
       "      <td>n</td>\n",
       "      <td>...</td>\n",
       "      <td>s</td>\n",
       "      <td>w</td>\n",
       "      <td>w</td>\n",
       "      <td>p</td>\n",
       "      <td>w</td>\n",
       "      <td>o</td>\n",
       "      <td>p</td>\n",
       "      <td>k</td>\n",
       "      <td>s</td>\n",
       "      <td>u</td>\n",
       "    </tr>\n",
       "    <tr>\n",
       "      <th>2</th>\n",
       "      <td>e</td>\n",
       "      <td>x</td>\n",
       "      <td>s</td>\n",
       "      <td>g</td>\n",
       "      <td>f</td>\n",
       "      <td>n</td>\n",
       "      <td>f</td>\n",
       "      <td>w</td>\n",
       "      <td>b</td>\n",
       "      <td>k</td>\n",
       "      <td>...</td>\n",
       "      <td>s</td>\n",
       "      <td>w</td>\n",
       "      <td>w</td>\n",
       "      <td>p</td>\n",
       "      <td>w</td>\n",
       "      <td>o</td>\n",
       "      <td>e</td>\n",
       "      <td>n</td>\n",
       "      <td>a</td>\n",
       "      <td>g</td>\n",
       "    </tr>\n",
       "    <tr>\n",
       "      <th>3</th>\n",
       "      <td>e</td>\n",
       "      <td>x</td>\n",
       "      <td>y</td>\n",
       "      <td>y</td>\n",
       "      <td>t</td>\n",
       "      <td>a</td>\n",
       "      <td>f</td>\n",
       "      <td>c</td>\n",
       "      <td>b</td>\n",
       "      <td>n</td>\n",
       "      <td>...</td>\n",
       "      <td>s</td>\n",
       "      <td>w</td>\n",
       "      <td>w</td>\n",
       "      <td>p</td>\n",
       "      <td>w</td>\n",
       "      <td>o</td>\n",
       "      <td>p</td>\n",
       "      <td>k</td>\n",
       "      <td>n</td>\n",
       "      <td>g</td>\n",
       "    </tr>\n",
       "    <tr>\n",
       "      <th>4</th>\n",
       "      <td>e</td>\n",
       "      <td>b</td>\n",
       "      <td>s</td>\n",
       "      <td>w</td>\n",
       "      <td>t</td>\n",
       "      <td>a</td>\n",
       "      <td>f</td>\n",
       "      <td>c</td>\n",
       "      <td>b</td>\n",
       "      <td>g</td>\n",
       "      <td>...</td>\n",
       "      <td>s</td>\n",
       "      <td>w</td>\n",
       "      <td>w</td>\n",
       "      <td>p</td>\n",
       "      <td>w</td>\n",
       "      <td>o</td>\n",
       "      <td>p</td>\n",
       "      <td>k</td>\n",
       "      <td>n</td>\n",
       "      <td>m</td>\n",
       "    </tr>\n",
       "  </tbody>\n",
       "</table>\n",
       "<p>5 rows × 23 columns</p>\n",
       "</div>"
      ],
      "text/plain": [
       "  class cap_shape cap_surface cap_color bruised odor gill_attachment  \\\n",
       "0     e         b           s         w       t    l               f   \n",
       "1     p         x           y         w       t    p               f   \n",
       "2     e         x           s         g       f    n               f   \n",
       "3     e         x           y         y       t    a               f   \n",
       "4     e         b           s         w       t    a               f   \n",
       "\n",
       "  gill_spacing gill_size gill_color  ... stalk_surface_below_ring  \\\n",
       "0            c         b          n  ...                        s   \n",
       "1            c         n          n  ...                        s   \n",
       "2            w         b          k  ...                        s   \n",
       "3            c         b          n  ...                        s   \n",
       "4            c         b          g  ...                        s   \n",
       "\n",
       "  stalk_color_above_ring stalk_color_below_ring veil_type veil_color  \\\n",
       "0                      w                      w         p          w   \n",
       "1                      w                      w         p          w   \n",
       "2                      w                      w         p          w   \n",
       "3                      w                      w         p          w   \n",
       "4                      w                      w         p          w   \n",
       "\n",
       "  ring_number ring-type spore_print_color population habitat  \n",
       "0           o         p                 n          n       m  \n",
       "1           o         p                 k          s       u  \n",
       "2           o         e                 n          a       g  \n",
       "3           o         p                 k          n       g  \n",
       "4           o         p                 k          n       m  \n",
       "\n",
       "[5 rows x 23 columns]"
      ]
     },
     "execution_count": 3,
     "metadata": {},
     "output_type": "execute_result"
    }
   ],
   "source": [
    "#labeling the columns\n",
    "labels = ['class', 'cap_shape', 'cap_surface', 'cap_color', 'bruised', 'odor',\n",
    "'gill_attachment', 'gill_spacing', 'gill_size', 'gill_color', 'stalk_shape', 'stalk_root',\n",
    "'stalk_surface_above_ring', 'stalk_surface_below_ring', 'stalk_color_above_ring', 'stalk_color_below_ring','veil_type', 'veil_color', 'ring_number',\n",
    "'ring-type', 'spore_print_color', 'population', 'habitat']\n",
    "\n",
    "\n",
    "df.columns = labels\n",
    "mushroom.head()\n"
   ]
  },
  {
   "cell_type": "code",
   "execution_count": 4,
   "id": "5cebd668",
   "metadata": {},
   "outputs": [
    {
     "data": {
      "text/html": [
       "<div>\n",
       "<style scoped>\n",
       "    .dataframe tbody tr th:only-of-type {\n",
       "        vertical-align: middle;\n",
       "    }\n",
       "\n",
       "    .dataframe tbody tr th {\n",
       "        vertical-align: top;\n",
       "    }\n",
       "\n",
       "    .dataframe thead th {\n",
       "        text-align: right;\n",
       "    }\n",
       "</style>\n",
       "<table border=\"1\" class=\"dataframe\">\n",
       "  <thead>\n",
       "    <tr style=\"text-align: right;\">\n",
       "      <th></th>\n",
       "      <th>class</th>\n",
       "      <th>cap_shape</th>\n",
       "      <th>cap_surface</th>\n",
       "      <th>cap_color</th>\n",
       "      <th>bruised</th>\n",
       "      <th>odor</th>\n",
       "      <th>gill_attachment</th>\n",
       "      <th>gill_spacing</th>\n",
       "      <th>gill_size</th>\n",
       "      <th>gill_color</th>\n",
       "      <th>...</th>\n",
       "      <th>stalk_surface_below_ring</th>\n",
       "      <th>stalk_color_above_ring</th>\n",
       "      <th>stalk_color_below_ring</th>\n",
       "      <th>veil_type</th>\n",
       "      <th>veil_color</th>\n",
       "      <th>ring_number</th>\n",
       "      <th>ring-type</th>\n",
       "      <th>spore_print_color</th>\n",
       "      <th>population</th>\n",
       "      <th>habitat</th>\n",
       "    </tr>\n",
       "  </thead>\n",
       "  <tbody>\n",
       "    <tr>\n",
       "      <th>0</th>\n",
       "      <td>0</td>\n",
       "      <td>0</td>\n",
       "      <td>2</td>\n",
       "      <td>8</td>\n",
       "      <td>1</td>\n",
       "      <td>3</td>\n",
       "      <td>1</td>\n",
       "      <td>0</td>\n",
       "      <td>0</td>\n",
       "      <td>5</td>\n",
       "      <td>...</td>\n",
       "      <td>2</td>\n",
       "      <td>7</td>\n",
       "      <td>7</td>\n",
       "      <td>0</td>\n",
       "      <td>2</td>\n",
       "      <td>1</td>\n",
       "      <td>4</td>\n",
       "      <td>3</td>\n",
       "      <td>2</td>\n",
       "      <td>3</td>\n",
       "    </tr>\n",
       "    <tr>\n",
       "      <th>1</th>\n",
       "      <td>1</td>\n",
       "      <td>5</td>\n",
       "      <td>3</td>\n",
       "      <td>8</td>\n",
       "      <td>1</td>\n",
       "      <td>6</td>\n",
       "      <td>1</td>\n",
       "      <td>0</td>\n",
       "      <td>1</td>\n",
       "      <td>5</td>\n",
       "      <td>...</td>\n",
       "      <td>2</td>\n",
       "      <td>7</td>\n",
       "      <td>7</td>\n",
       "      <td>0</td>\n",
       "      <td>2</td>\n",
       "      <td>1</td>\n",
       "      <td>4</td>\n",
       "      <td>2</td>\n",
       "      <td>3</td>\n",
       "      <td>5</td>\n",
       "    </tr>\n",
       "    <tr>\n",
       "      <th>2</th>\n",
       "      <td>0</td>\n",
       "      <td>5</td>\n",
       "      <td>2</td>\n",
       "      <td>3</td>\n",
       "      <td>0</td>\n",
       "      <td>5</td>\n",
       "      <td>1</td>\n",
       "      <td>1</td>\n",
       "      <td>0</td>\n",
       "      <td>4</td>\n",
       "      <td>...</td>\n",
       "      <td>2</td>\n",
       "      <td>7</td>\n",
       "      <td>7</td>\n",
       "      <td>0</td>\n",
       "      <td>2</td>\n",
       "      <td>1</td>\n",
       "      <td>0</td>\n",
       "      <td>3</td>\n",
       "      <td>0</td>\n",
       "      <td>1</td>\n",
       "    </tr>\n",
       "    <tr>\n",
       "      <th>3</th>\n",
       "      <td>0</td>\n",
       "      <td>5</td>\n",
       "      <td>3</td>\n",
       "      <td>9</td>\n",
       "      <td>1</td>\n",
       "      <td>0</td>\n",
       "      <td>1</td>\n",
       "      <td>0</td>\n",
       "      <td>0</td>\n",
       "      <td>5</td>\n",
       "      <td>...</td>\n",
       "      <td>2</td>\n",
       "      <td>7</td>\n",
       "      <td>7</td>\n",
       "      <td>0</td>\n",
       "      <td>2</td>\n",
       "      <td>1</td>\n",
       "      <td>4</td>\n",
       "      <td>2</td>\n",
       "      <td>2</td>\n",
       "      <td>1</td>\n",
       "    </tr>\n",
       "    <tr>\n",
       "      <th>4</th>\n",
       "      <td>0</td>\n",
       "      <td>0</td>\n",
       "      <td>2</td>\n",
       "      <td>8</td>\n",
       "      <td>1</td>\n",
       "      <td>0</td>\n",
       "      <td>1</td>\n",
       "      <td>0</td>\n",
       "      <td>0</td>\n",
       "      <td>2</td>\n",
       "      <td>...</td>\n",
       "      <td>2</td>\n",
       "      <td>7</td>\n",
       "      <td>7</td>\n",
       "      <td>0</td>\n",
       "      <td>2</td>\n",
       "      <td>1</td>\n",
       "      <td>4</td>\n",
       "      <td>2</td>\n",
       "      <td>2</td>\n",
       "      <td>3</td>\n",
       "    </tr>\n",
       "  </tbody>\n",
       "</table>\n",
       "<p>5 rows × 23 columns</p>\n",
       "</div>"
      ],
      "text/plain": [
       "   class  cap_shape  cap_surface  cap_color  bruised  odor  gill_attachment  \\\n",
       "0      0          0            2          8        1     3                1   \n",
       "1      1          5            3          8        1     6                1   \n",
       "2      0          5            2          3        0     5                1   \n",
       "3      0          5            3          9        1     0                1   \n",
       "4      0          0            2          8        1     0                1   \n",
       "\n",
       "   gill_spacing  gill_size  gill_color  ...  stalk_surface_below_ring  \\\n",
       "0             0          0           5  ...                         2   \n",
       "1             0          1           5  ...                         2   \n",
       "2             1          0           4  ...                         2   \n",
       "3             0          0           5  ...                         2   \n",
       "4             0          0           2  ...                         2   \n",
       "\n",
       "   stalk_color_above_ring  stalk_color_below_ring  veil_type  veil_color  \\\n",
       "0                       7                       7          0           2   \n",
       "1                       7                       7          0           2   \n",
       "2                       7                       7          0           2   \n",
       "3                       7                       7          0           2   \n",
       "4                       7                       7          0           2   \n",
       "\n",
       "   ring_number  ring-type  spore_print_color  population  habitat  \n",
       "0            1          4                  3           2        3  \n",
       "1            1          4                  2           3        5  \n",
       "2            1          0                  3           0        1  \n",
       "3            1          4                  2           2        1  \n",
       "4            1          4                  2           2        3  \n",
       "\n",
       "[5 rows x 23 columns]"
      ]
     },
     "execution_count": 4,
     "metadata": {},
     "output_type": "execute_result"
    }
   ],
   "source": [
    "#encoding the categorical data, giving each category an unique numerical value\n",
    "labelencoder = LabelEncoder()\n",
    "\n",
    "for col in df.columns:\n",
    "    df[col] = labelencoder.fit_transform(df[col])\n",
    "\n",
    "mushroom.head()  "
   ]
  },
  {
   "cell_type": "code",
   "execution_count": 5,
   "id": "f0b3471d",
   "metadata": {},
   "outputs": [
    {
     "data": {
      "text/plain": [
       "class                       0\n",
       "cap_shape                   0\n",
       "cap_surface                 0\n",
       "cap_color                   0\n",
       "bruised                     0\n",
       "odor                        0\n",
       "gill_attachment             0\n",
       "gill_spacing                0\n",
       "gill_size                   0\n",
       "gill_color                  0\n",
       "stalk_shape                 0\n",
       "stalk_root                  0\n",
       "stalk_surface_above_ring    0\n",
       "stalk_surface_below_ring    0\n",
       "stalk_color_above_ring      0\n",
       "stalk_color_below_ring      0\n",
       "veil_type                   0\n",
       "veil_color                  0\n",
       "ring_number                 0\n",
       "ring-type                   0\n",
       "spore_print_color           0\n",
       "population                  0\n",
       "habitat                     0\n",
       "dtype: int64"
      ]
     },
     "execution_count": 5,
     "metadata": {},
     "output_type": "execute_result"
    }
   ],
   "source": [
    "#no null/missing values in the dataset\n",
    "df.isna().sum()"
   ]
  },
  {
   "cell_type": "code",
   "execution_count": 24,
   "id": "a9fbcefc",
   "metadata": {},
   "outputs": [
    {
     "name": "stdout",
     "output_type": "stream",
     "text": [
      "(8122, 23)\n"
     ]
    }
   ],
   "source": [
    "#Number of mushrooms, number of features\n",
    "print(mushroom.shape) "
   ]
  },
  {
   "cell_type": "code",
   "execution_count": 6,
   "id": "d9109e39",
   "metadata": {},
   "outputs": [
    {
     "name": "stdout",
     "output_type": "stream",
     "text": [
      "0    4207\n",
      "1    3915\n",
      "Name: class, dtype: int64\n"
     ]
    },
    {
     "data": {
      "image/png": "[encoded data removed]",
      "text/plain": [
       "<Figure size 600x400 with 1 Axes>"
      ]
     },
     "metadata": {},
     "output_type": "display_data"
    }
   ],
   "source": [
    "#using plt to visulize\n",
    "count = mushroom['class'].value_counts()\n",
    "print(count)\n",
    "\n",
    "plt.figure(figsize=(6,4))\n",
    "count.plot(kind='bar')\n",
    "plt.grid(True)\n",
    "plt.xlabel('edible/poisonous', fontsize = 11)\n",
    "plt.ylabel('number of mushrooms', fontsize = 11)\n",
    "plt.title('Mushroom classification')\n",
    "\n",
    "plt.show()"
   ]
  },
  {
   "cell_type": "markdown",
   "id": "fc8b58ad",
   "metadata": {},
   "source": [
    "Dropping the feature veil_type because it only gave us one value - a constant feature, that would not help the prediciton. "
   ]
  },
  {
   "cell_type": "code",
   "execution_count": 7,
   "id": "0a42c26e",
   "metadata": {},
   "outputs": [
    {
     "data": {
      "text/html": [
       "<div>\n",
       "<style scoped>\n",
       "    .dataframe tbody tr th:only-of-type {\n",
       "        vertical-align: middle;\n",
       "    }\n",
       "\n",
       "    .dataframe tbody tr th {\n",
       "        vertical-align: top;\n",
       "    }\n",
       "\n",
       "    .dataframe thead th {\n",
       "        text-align: right;\n",
       "    }\n",
       "</style>\n",
       "<table border=\"1\" class=\"dataframe\">\n",
       "  <thead>\n",
       "    <tr style=\"text-align: right;\">\n",
       "      <th></th>\n",
       "      <th>cap_shape</th>\n",
       "      <th>cap_surface</th>\n",
       "      <th>cap_color</th>\n",
       "      <th>bruised</th>\n",
       "      <th>odor</th>\n",
       "      <th>gill_attachment</th>\n",
       "      <th>gill_spacing</th>\n",
       "      <th>gill_size</th>\n",
       "      <th>gill_color</th>\n",
       "      <th>stalk_shape</th>\n",
       "      <th>...</th>\n",
       "      <th>stalk_surface_below_ring</th>\n",
       "      <th>stalk_color_above_ring</th>\n",
       "      <th>stalk_color_below_ring</th>\n",
       "      <th>veil_type</th>\n",
       "      <th>veil_color</th>\n",
       "      <th>ring_number</th>\n",
       "      <th>ring-type</th>\n",
       "      <th>spore_print_color</th>\n",
       "      <th>population</th>\n",
       "      <th>habitat</th>\n",
       "    </tr>\n",
       "  </thead>\n",
       "  <tbody>\n",
       "    <tr>\n",
       "      <th>0</th>\n",
       "      <td>0</td>\n",
       "      <td>2</td>\n",
       "      <td>8</td>\n",
       "      <td>1</td>\n",
       "      <td>3</td>\n",
       "      <td>1</td>\n",
       "      <td>0</td>\n",
       "      <td>0</td>\n",
       "      <td>5</td>\n",
       "      <td>0</td>\n",
       "      <td>...</td>\n",
       "      <td>2</td>\n",
       "      <td>7</td>\n",
       "      <td>7</td>\n",
       "      <td>0</td>\n",
       "      <td>2</td>\n",
       "      <td>1</td>\n",
       "      <td>4</td>\n",
       "      <td>3</td>\n",
       "      <td>2</td>\n",
       "      <td>3</td>\n",
       "    </tr>\n",
       "    <tr>\n",
       "      <th>1</th>\n",
       "      <td>5</td>\n",
       "      <td>3</td>\n",
       "      <td>8</td>\n",
       "      <td>1</td>\n",
       "      <td>6</td>\n",
       "      <td>1</td>\n",
       "      <td>0</td>\n",
       "      <td>1</td>\n",
       "      <td>5</td>\n",
       "      <td>0</td>\n",
       "      <td>...</td>\n",
       "      <td>2</td>\n",
       "      <td>7</td>\n",
       "      <td>7</td>\n",
       "      <td>0</td>\n",
       "      <td>2</td>\n",
       "      <td>1</td>\n",
       "      <td>4</td>\n",
       "      <td>2</td>\n",
       "      <td>3</td>\n",
       "      <td>5</td>\n",
       "    </tr>\n",
       "    <tr>\n",
       "      <th>2</th>\n",
       "      <td>5</td>\n",
       "      <td>2</td>\n",
       "      <td>3</td>\n",
       "      <td>0</td>\n",
       "      <td>5</td>\n",
       "      <td>1</td>\n",
       "      <td>1</td>\n",
       "      <td>0</td>\n",
       "      <td>4</td>\n",
       "      <td>1</td>\n",
       "      <td>...</td>\n",
       "      <td>2</td>\n",
       "      <td>7</td>\n",
       "      <td>7</td>\n",
       "      <td>0</td>\n",
       "      <td>2</td>\n",
       "      <td>1</td>\n",
       "      <td>0</td>\n",
       "      <td>3</td>\n",
       "      <td>0</td>\n",
       "      <td>1</td>\n",
       "    </tr>\n",
       "    <tr>\n",
       "      <th>3</th>\n",
       "      <td>5</td>\n",
       "      <td>3</td>\n",
       "      <td>9</td>\n",
       "      <td>1</td>\n",
       "      <td>0</td>\n",
       "      <td>1</td>\n",
       "      <td>0</td>\n",
       "      <td>0</td>\n",
       "      <td>5</td>\n",
       "      <td>0</td>\n",
       "      <td>...</td>\n",
       "      <td>2</td>\n",
       "      <td>7</td>\n",
       "      <td>7</td>\n",
       "      <td>0</td>\n",
       "      <td>2</td>\n",
       "      <td>1</td>\n",
       "      <td>4</td>\n",
       "      <td>2</td>\n",
       "      <td>2</td>\n",
       "      <td>1</td>\n",
       "    </tr>\n",
       "    <tr>\n",
       "      <th>4</th>\n",
       "      <td>0</td>\n",
       "      <td>2</td>\n",
       "      <td>8</td>\n",
       "      <td>1</td>\n",
       "      <td>0</td>\n",
       "      <td>1</td>\n",
       "      <td>0</td>\n",
       "      <td>0</td>\n",
       "      <td>2</td>\n",
       "      <td>0</td>\n",
       "      <td>...</td>\n",
       "      <td>2</td>\n",
       "      <td>7</td>\n",
       "      <td>7</td>\n",
       "      <td>0</td>\n",
       "      <td>2</td>\n",
       "      <td>1</td>\n",
       "      <td>4</td>\n",
       "      <td>2</td>\n",
       "      <td>2</td>\n",
       "      <td>3</td>\n",
       "    </tr>\n",
       "  </tbody>\n",
       "</table>\n",
       "<p>5 rows × 22 columns</p>\n",
       "</div>"
      ],
      "text/plain": [
       "   cap_shape  cap_surface  cap_color  bruised  odor  gill_attachment  \\\n",
       "0          0            2          8        1     3                1   \n",
       "1          5            3          8        1     6                1   \n",
       "2          5            2          3        0     5                1   \n",
       "3          5            3          9        1     0                1   \n",
       "4          0            2          8        1     0                1   \n",
       "\n",
       "   gill_spacing  gill_size  gill_color  stalk_shape  ...  \\\n",
       "0             0          0           5            0  ...   \n",
       "1             0          1           5            0  ...   \n",
       "2             1          0           4            1  ...   \n",
       "3             0          0           5            0  ...   \n",
       "4             0          0           2            0  ...   \n",
       "\n",
       "   stalk_surface_below_ring  stalk_color_above_ring  stalk_color_below_ring  \\\n",
       "0                         2                       7                       7   \n",
       "1                         2                       7                       7   \n",
       "2                         2                       7                       7   \n",
       "3                         2                       7                       7   \n",
       "4                         2                       7                       7   \n",
       "\n",
       "   veil_type  veil_color  ring_number  ring-type  spore_print_color  \\\n",
       "0          0           2            1          4                  3   \n",
       "1          0           2            1          4                  2   \n",
       "2          0           2            1          0                  3   \n",
       "3          0           2            1          4                  2   \n",
       "4          0           2            1          4                  2   \n",
       "\n",
       "   population  habitat  \n",
       "0           2        3  \n",
       "1           3        5  \n",
       "2           0        1  \n",
       "3           2        1  \n",
       "4           2        3  \n",
       "\n",
       "[5 rows x 22 columns]"
      ]
     },
     "execution_count": 7,
     "metadata": {},
     "output_type": "execute_result"
    }
   ],
   "source": [
    "#making set without the feature class as x\n",
    "x= df.loc[:, df.columns != 'class']\n",
    "x.head()"
   ]
  },
  {
   "cell_type": "code",
   "execution_count": 8,
   "id": "ceb64c56",
   "metadata": {},
   "outputs": [
    {
     "data": {
      "text/html": [
       "<div>\n",
       "<style scoped>\n",
       "    .dataframe tbody tr th:only-of-type {\n",
       "        vertical-align: middle;\n",
       "    }\n",
       "\n",
       "    .dataframe tbody tr th {\n",
       "        vertical-align: top;\n",
       "    }\n",
       "\n",
       "    .dataframe thead th {\n",
       "        text-align: right;\n",
       "    }\n",
       "</style>\n",
       "<table border=\"1\" class=\"dataframe\">\n",
       "  <thead>\n",
       "    <tr style=\"text-align: right;\">\n",
       "      <th></th>\n",
       "      <th>class</th>\n",
       "    </tr>\n",
       "  </thead>\n",
       "  <tbody>\n",
       "    <tr>\n",
       "      <th>0</th>\n",
       "      <td>0</td>\n",
       "    </tr>\n",
       "    <tr>\n",
       "      <th>1</th>\n",
       "      <td>1</td>\n",
       "    </tr>\n",
       "    <tr>\n",
       "      <th>2</th>\n",
       "      <td>0</td>\n",
       "    </tr>\n",
       "    <tr>\n",
       "      <th>3</th>\n",
       "      <td>0</td>\n",
       "    </tr>\n",
       "    <tr>\n",
       "      <th>4</th>\n",
       "      <td>0</td>\n",
       "    </tr>\n",
       "  </tbody>\n",
       "</table>\n",
       "</div>"
      ],
      "text/plain": [
       "   class\n",
       "0      0\n",
       "1      1\n",
       "2      0\n",
       "3      0\n",
       "4      0"
      ]
     },
     "execution_count": 8,
     "metadata": {},
     "output_type": "execute_result"
    }
   ],
   "source": [
    "#the y will be the feature class - that we should predict\n",
    "y = df['class'].to_frame()\n",
    "y.head()"
   ]
  },
  {
   "cell_type": "code",
   "execution_count": 9,
   "id": "4ea8371b",
   "metadata": {},
   "outputs": [],
   "source": [
    "#spliting the data \n",
    "X_train, X_test, y_train, y_test = train_test_split(x, y, test_size = 0.2, random_state=56)"
   ]
  },
  {
   "cell_type": "code",
   "execution_count": 10,
   "id": "419f4925",
   "metadata": {},
   "outputs": [
    {
     "name": "stdout",
     "output_type": "stream",
     "text": [
      "(6497, 22)\n",
      "(6497, 1)\n"
     ]
    }
   ],
   "source": [
    "print(X_train.shape)\n",
    "print(y_train.shape)"
   ]
  },
  {
   "cell_type": "code",
   "execution_count": 11,
   "id": "6c5a2797",
   "metadata": {},
   "outputs": [
    {
     "name": "stdout",
     "output_type": "stream",
     "text": [
      "(1625, 22)\n",
      "(1625, 1)\n"
     ]
    }
   ],
   "source": [
    "print(X_test.shape)\n",
    "print(y_test.shape)"
   ]
  },
  {
   "cell_type": "markdown",
   "id": "cd36ab09",
   "metadata": {},
   "source": [
    "## 1.4 The Models <a name='task1models'></a>\n",
    "\n",
    "1.  KNN\n",
    "\n",
    "We now use the KNeighborsClassifier to classify the edbility of the mushrooms "
   ]
  },
  {
   "cell_type": "code",
   "execution_count": 12,
   "id": "fee8972c",
   "metadata": {},
   "outputs": [],
   "source": [
    "#importing first model from Sklearn\n",
    "from sklearn.neighbors import KNeighborsClassifier"
   ]
  },
  {
   "cell_type": "code",
   "execution_count": 13,
   "id": "b44f0a75",
   "metadata": {},
   "outputs": [
    {
     "data": {
      "text/plain": [
       "KNeighborsClassifier(n_neighbors=30)"
      ]
     },
     "execution_count": 13,
     "metadata": {},
     "output_type": "execute_result"
    }
   ],
   "source": [
    "knn = KNeighborsClassifier(n_neighbors=30)\n",
    "knn.fit(X_train, y_train.values.ravel())"
   ]
  },
  {
   "cell_type": "code",
   "execution_count": 14,
   "id": "6c288930",
   "metadata": {},
   "outputs": [
    {
     "name": "stdout",
     "output_type": "stream",
     "text": [
      "KNN accuracy:  0.9870769230769231\n"
     ]
    }
   ],
   "source": [
    "print('KNN accuracy: ', knn.score(X_test, y_test))"
   ]
  },
  {
   "cell_type": "markdown",
   "id": "487afdb6",
   "metadata": {},
   "source": [
    "To evaluate the performance of our model we will use the kFold cross-validation technique. Mainly to avoid overfitting by training an testing the model on different subsets of the data. "
   ]
  },
  {
   "cell_type": "code",
   "execution_count": 15,
   "id": "2781aae5",
   "metadata": {},
   "outputs": [
    {
     "name": "stdout",
     "output_type": "stream",
     "text": [
      "Accuracy of each fold:  [0.50338462 0.99692308 0.9729064  0.81465517 0.86453202]\n",
      "The mean score result:  0.8304802576733611\n"
     ]
    }
   ],
   "source": [
    "from sklearn.model_selection import KFold, cross_val_score\n",
    "\n",
    "folds = KFold(n_splits= 5)\n",
    "scores = cross_val_score(knn, x, y.values.ravel(), cv = folds)\n",
    "print('Accuracy of each fold: ', scores)\n",
    "print('The mean score result: ', scores.mean())"
   ]
  },
  {
   "cell_type": "markdown",
   "id": "3b583bf8",
   "metadata": {},
   "source": [
    "As we can see after using the KFold method, the first fold gives us worse estimate than the rest of the folds, \n",
    "there could be multiple reasons for that. The first fold could be containing data that is significantly different than the rest of the folds, or the model being too complex and overfitting. "
   ]
  },
  {
   "cell_type": "markdown",
   "id": "ea9ec0d3",
   "metadata": {},
   "source": [
    "2. RandomForest\n",
    "\n",
    "Finding the important features of this data set could help to reduse the dimentions of the dataset. To do this we will use the RandomForestClassification. "
   ]
  },
  {
   "cell_type": "code",
   "execution_count": 16,
   "id": "eacc4d93",
   "metadata": {},
   "outputs": [],
   "source": [
    "#importing the next model to use, RandomForestClassifier\n",
    "from sklearn.ensemble import RandomForestClassifier"
   ]
  },
  {
   "cell_type": "code",
   "execution_count": 17,
   "id": "cd854229",
   "metadata": {},
   "outputs": [
    {
     "name": "stdout",
     "output_type": "stream",
     "text": [
      "|    | feature                  |   feature_importance |\n",
      "|---:|:-------------------------|---------------------:|\n",
      "|  0 | cap_shape                |           0.00394178 |\n",
      "|  1 | cap_surface              |           0.00883719 |\n",
      "|  2 | cap_color                |           0.0148778  |\n",
      "|  3 | bruised                  |           0.0457215  |\n",
      "|  4 | odor                     |           0.155601   |\n",
      "|  5 | gill_attachment          |           0.00305538 |\n",
      "|  6 | gill_spacing             |           0.0430563  |\n",
      "|  7 | gill_size                |           0.098159   |\n",
      "|  8 | gill_color               |           0.125678   |\n",
      "|  9 | stalk_shape              |           0.0290234  |\n",
      "| 10 | stalk_root               |           0.0582473  |\n",
      "| 11 | stalk_surface_above_ring |           0.0391352  |\n",
      "| 12 | stalk_surface_below_ring |           0.0341897  |\n",
      "| 13 | stalk_color_above_ring   |           0.0179334  |\n",
      "| 14 | stalk_color_below_ring   |           0.0178915  |\n",
      "| 15 | veil_type                |           0          |\n",
      "| 16 | veil_color               |           0.00303834 |\n",
      "| 17 | ring_number              |           0.0103978  |\n",
      "| 18 | ring-type                |           0.0985915  |\n",
      "| 19 | spore_print_color        |           0.0964322  |\n",
      "| 20 | population               |           0.0629856  |\n",
      "| 21 | habitat                  |           0.0332061  |\n"
     ]
    },
    {
     "data": {
      "image/png": "[encoded data removed]",
      "text/plain": [
       "<Figure size 640x480 with 1 Axes>"
      ]
     },
     "metadata": {},
     "output_type": "display_data"
    }
   ],
   "source": [
    "RF = RandomForestClassifier()\n",
    "\n",
    "RF.fit(X_train, y_train)\n",
    "\n",
    "#Finding the important feature \n",
    "feature_importance = pd.DataFrame(\n",
    "    {'feature': list(X_train.columns),\n",
    "     'feature_importance': [abs(i) for i in RF.feature_importances_]}  \n",
    ")\n",
    "\n",
    "#printing the overview markdown \n",
    "print(feature_importance.to_markdown())\n",
    "\n",
    "#and as a diagram\n",
    "feature_importance.plot(kind = 'bar')\n",
    "plt.xlabel('Feature number (see markdown above)')\n",
    "plt.show()"
   ]
  },
  {
   "cell_type": "markdown",
   "id": "a52dd43f",
   "metadata": {},
   "source": [
    "The inspiration to find important features and use them in this way, we got from this site: towardsdatascience.com, by Giovanni Valdata: https://towardsdatascience.com/feature-importance-to-predict-mushrooms-edibility-in-python-5aa133fea3f8, 14.09. 22, read: 10.04.23\n",
    "\n",
    "We are also using RF to classify the mushrooms. By using all the features we can find the accuracy in identifing the mushrooms edibility with RandomForest."
   ]
  },
  {
   "cell_type": "code",
   "execution_count": 18,
   "id": "03d72b94",
   "metadata": {},
   "outputs": [
    {
     "name": "stdout",
     "output_type": "stream",
     "text": [
      "RandomForest Accuracy:  1.0\n"
     ]
    }
   ],
   "source": [
    "print('RandomForest Accuracy: ', RF.score(X_test, y_test))"
   ]
  },
  {
   "cell_type": "markdown",
   "id": "fa4419d0",
   "metadata": {},
   "source": [
    "We see that the accuracy is 100% "
   ]
  },
  {
   "cell_type": "markdown",
   "id": "0f79a088",
   "metadata": {},
   "source": [
    "3. BernoulliNB\n",
    "\n",
    "BernoulliNB is another classification model that we will use to classify the mushrooms because this is a binary classification. It works well with binary data and can handle large number of features and high-dimentional datasets, like we have in the mushroomset.  "
   ]
  },
  {
   "cell_type": "code",
   "execution_count": 19,
   "id": "b63dfd22",
   "metadata": {},
   "outputs": [],
   "source": [
    "#importing BernoulliNB classification that we will use next\n",
    "from sklearn.naive_bayes import BernoulliNB"
   ]
  },
  {
   "cell_type": "code",
   "execution_count": 20,
   "id": "c58bb506",
   "metadata": {},
   "outputs": [
    {
     "data": {
      "text/plain": [
       "BernoulliNB(alpha=0.2)"
      ]
     },
     "execution_count": 20,
     "metadata": {},
     "output_type": "execute_result"
    }
   ],
   "source": [
    "model = BernoulliNB(alpha=0.2)\n",
    "model.fit(X_train, y_train.values.ravel())"
   ]
  },
  {
   "cell_type": "code",
   "execution_count": 21,
   "id": "304cb235",
   "metadata": {},
   "outputs": [
    {
     "name": "stdout",
     "output_type": "stream",
     "text": [
      "              precision    recall  f1-score   support\n",
      "\n",
      "           0       0.79      0.92      0.85       853\n",
      "           1       0.89      0.73      0.80       772\n",
      "\n",
      "    accuracy                           0.83      1625\n",
      "   macro avg       0.84      0.83      0.83      1625\n",
      "weighted avg       0.84      0.83      0.83      1625\n",
      "\n"
     ]
    }
   ],
   "source": [
    "pred = model.predict(X_test)\n",
    "print(classification_report(y_test, pred))"
   ]
  },
  {
   "cell_type": "code",
   "execution_count": 22,
   "id": "83583077",
   "metadata": {},
   "outputs": [
    {
     "name": "stdout",
     "output_type": "stream",
     "text": [
      "BernoulliNB accuracy:  0.8307692307692308\n"
     ]
    }
   ],
   "source": [
    "print('BernoulliNB accuracy: ', accuracy_score(y_test, pred))"
   ]
  },
  {
   "cell_type": "markdown",
   "id": "635136f1",
   "metadata": {},
   "source": [
    "Even though this model pretty is accurate, the BernoulliNB classifier may not be as effective as the two other models we have used. This model assumes, among other factors, that the features are independent of eachother, this might not be the case for the dataset we are working with. Where the odor and spore print may be correlated with each other and with the target variable, ignoring this could give us the litle reduced accuracy we are seeing. "
   ]
  },
  {
   "cell_type": "markdown",
   "id": "163f964c",
   "metadata": {},
   "source": [
    "## 1.5 Feature Selection <a name='task1feature'></a>\n",
    "\n",
    "Now we also use feature selection at last, only the most important features for the model, this could also reduse overfitting. We test it on our two best performing models, knn and RF.  "
   ]
  },
  {
   "cell_type": "code",
   "execution_count": 23,
   "id": "c34a9c72",
   "metadata": {},
   "outputs": [
    {
     "name": "stdout",
     "output_type": "stream",
     "text": [
      "Report for the RF prediction: \n",
      "               precision    recall  f1-score   support\n",
      "\n",
      "           0       1.00      0.99      0.99       853\n",
      "           1       0.98      1.00      0.99       772\n",
      "\n",
      "    accuracy                           0.99      1625\n",
      "   macro avg       0.99      0.99      0.99      1625\n",
      "weighted avg       0.99      0.99      0.99      1625\n",
      "\n",
      "RandomForestClassifier score:  0.9926153846153846\n",
      "Knn score:  0.9926153846153846\n"
     ]
    }
   ],
   "source": [
    "#making new variables for the new data to be used, mostly for the visability we also make a new y\n",
    "x2 = df[['odor', 'gill_size', 'gill_color', 'spore_print_color']]\n",
    "y2 = df['class']\n",
    "\n",
    "#splitting again - with way less features as x\n",
    "X2_train, X2_test, y2_train, y2_test = train_test_split(x2,y2, test_size = 0.2, random_state=56)\n",
    "\n",
    "RF.fit(X2_train, y2_train)\n",
    "knn.fit(X2_train, y2_train)\n",
    "pred_RF = RF.predict(X2_test)\n",
    "\n",
    "\n",
    "print('Report for the RF prediction: \\n', classification_report(y2_test, pred_RF))\n",
    "\n",
    "#printing the score accuracy for both to compare \n",
    "print('RandomForestClassifier score: ', RF.score(X2_test, y2_test))\n",
    "print('Knn score: ', knn.score(X2_test, y2_test))"
   ]
  },
  {
   "cell_type": "markdown",
   "id": "5468e055",
   "metadata": {},
   "source": [
    "Using only the important features also gives us aboutthe same accuracy as using all of the features in the dataset on the RandomForest model. The KNearestNeighbour got a litle better accuracy now, with only these features included. "
   ]
  },
  {
   "cell_type": "markdown",
   "id": "c040d35a",
   "metadata": {},
   "source": [
    "## 1.6 Results <a name='task1results'></a>\n",
    "\n",
    "Based on the outcome of the different models used in this task, we would trust the RandomForest model to predict which mushrooms to eat. \n",
    "It has the abilty to identify the important features and give us an good accuracy score based on these features. It is also good to use on high-dimensional datasets like the mushroom dataset. This is where KNN is not as goood compared, because the large number of categories makes it difficult to find the best neighbours. Another factor could be that the Knn is prone to overfitting because it dont have enough data to generalize well. \n",
    "\n",
    "The RandomForest classifier can also handle non-linear and high-dimentional datasets like this one well. \n",
    "KNN has some limitations when it comes to the imbalanced data, more edible instances than poisonous in one class, where Random Forest adjusts the wheights of the samples and handles this better. "
   ]
  },
  {
   "cell_type": "markdown",
   "id": "e617bf45",
   "metadata": {},
   "source": [
    "# Task 2  <a name='task2'></a>  \n",
    "\n",
    "The goal of this assignment is to create a model that can perform sentiment analysis. To achieve this we'll be training it on the provided dataset, containing sentiments classfied as positive, neutral, or negative.\n",
    "\n",
    "**Required Imports/Downloads**"
   ]
  },
  {
   "cell_type": "code",
   "execution_count": 24,
   "id": "7ef4991f",
   "metadata": {},
   "outputs": [
    {
     "name": "stdout",
     "output_type": "stream",
     "text": [
      "Requirement already satisfied: spacy in c:\\users\\jakoa\\anaconda3\\lib\\site-packages (3.5.1)\n",
      "Requirement already satisfied: imblearn in c:\\users\\jakoa\\anaconda3\\lib\\site-packages (0.0)\n",
      "Requirement already satisfied: nltk in c:\\users\\jakoa\\anaconda3\\lib\\site-packages (3.7)\n",
      "Requirement already satisfied: numpy in c:\\users\\jakoa\\anaconda3\\lib\\site-packages (1.21.5)\n",
      "Requirement already satisfied: pandas in c:\\users\\jakoa\\anaconda3\\lib\\site-packages (1.4.4)\n",
      "Requirement already satisfied: wordcloud in c:\\users\\jakoa\\anaconda3\\lib\\site-packages (1.8.2.2)\n",
      "Requirement already satisfied: pydantic!=1.8,!=1.8.1,<1.11.0,>=1.7.4 in c:\\users\\jakoa\\anaconda3\\lib\\site-packages (from spacy) (1.10.7)\n",
      "Requirement already satisfied: spacy-legacy<3.1.0,>=3.0.11 in c:\\users\\jakoa\\anaconda3\\lib\\site-packages (from spacy) (3.0.12)\n",
      "Requirement already satisfied: smart-open<7.0.0,>=5.2.1 in c:\\users\\jakoa\\anaconda3\\lib\\site-packages (from spacy) (5.2.1)\n",
      "Requirement already satisfied: jinja2 in c:\\users\\jakoa\\anaconda3\\lib\\site-packages (from spacy) (2.11.3)\n",
      "Requirement already satisfied: pathy>=0.10.0 in c:\\users\\jakoa\\anaconda3\\lib\\site-packages (from spacy) (0.10.1)\n",
      "Requirement already satisfied: requests<3.0.0,>=2.13.0 in c:\\users\\jakoa\\anaconda3\\lib\\site-packages (from spacy) (2.28.1)\n",
      "Requirement already satisfied: preshed<3.1.0,>=3.0.2 in c:\\users\\jakoa\\anaconda3\\lib\\site-packages (from spacy) (3.0.8)\n",
      "Requirement already satisfied: typer<0.8.0,>=0.3.0 in c:\\users\\jakoa\\anaconda3\\lib\\site-packages (from spacy) (0.7.0)\n",
      "Requirement already satisfied: tqdm<5.0.0,>=4.38.0 in c:\\users\\jakoa\\anaconda3\\lib\\site-packages (from spacy) (4.64.1)\n",
      "Requirement already satisfied: setuptools in c:\\users\\jakoa\\anaconda3\\lib\\site-packages (from spacy) (63.4.1)\n",
      "Requirement already satisfied: catalogue<2.1.0,>=2.0.6 in c:\\users\\jakoa\\anaconda3\\lib\\site-packages (from spacy) (2.0.8)\n",
      "Requirement already satisfied: cymem<2.1.0,>=2.0.2 in c:\\users\\jakoa\\anaconda3\\lib\\site-packages (from spacy) (2.0.7)\n",
      "Requirement already satisfied: packaging>=20.0 in c:\\users\\jakoa\\anaconda3\\lib\\site-packages (from spacy) (21.3)\n",
      "Requirement already satisfied: langcodes<4.0.0,>=3.2.0 in c:\\users\\jakoa\\anaconda3\\lib\\site-packages (from spacy) (3.3.0)\n",
      "Requirement already satisfied: wasabi<1.2.0,>=0.9.1 in c:\\users\\jakoa\\anaconda3\\lib\\site-packages (from spacy) (1.1.1)\n",
      "Requirement already satisfied: thinc<8.2.0,>=8.1.8 in c:\\users\\jakoa\\anaconda3\\lib\\site-packages (from spacy) (8.1.9)\n",
      "Requirement already satisfied: srsly<3.0.0,>=2.4.3 in c:\\users\\jakoa\\anaconda3\\lib\\site-packages (from spacy) (2.4.6)\n",
      "Requirement already satisfied: murmurhash<1.1.0,>=0.28.0 in c:\\users\\jakoa\\anaconda3\\lib\\site-packages (from spacy) (1.0.9)\n",
      "Requirement already satisfied: spacy-loggers<2.0.0,>=1.0.0 in c:\\users\\jakoa\\anaconda3\\lib\\site-packages (from spacy) (1.0.4)\n",
      "Requirement already satisfied: imbalanced-learn in c:\\users\\jakoa\\anaconda3\\lib\\site-packages (from imblearn) (0.10.1)\n",
      "Requirement already satisfied: regex>=2021.8.3 in c:\\users\\jakoa\\anaconda3\\lib\\site-packages (from nltk) (2022.7.9)\n",
      "Requirement already satisfied: joblib in c:\\users\\jakoa\\anaconda3\\lib\\site-packages (from nltk) (1.2.0)\n",
      "Requirement already satisfied: click in c:\\users\\jakoa\\anaconda3\\lib\\site-packages (from nltk) (8.0.4)\n",
      "Requirement already satisfied: pytz>=2020.1 in c:\\users\\jakoa\\anaconda3\\lib\\site-packages (from pandas) (2022.1)\n",
      "Requirement already satisfied: python-dateutil>=2.8.1 in c:\\users\\jakoa\\anaconda3\\lib\\site-packages (from pandas) (2.8.2)\n",
      "Requirement already satisfied: pillow in c:\\users\\jakoa\\anaconda3\\lib\\site-packages (from wordcloud) (9.2.0)\n",
      "Requirement already satisfied: matplotlib in c:\\users\\jakoa\\anaconda3\\lib\\site-packages (from wordcloud) (3.5.2)\n",
      "Requirement already satisfied: pyparsing!=3.0.5,>=2.0.2 in c:\\users\\jakoa\\anaconda3\\lib\\site-packages (from packaging>=20.0->spacy) (3.0.9)\n",
      "Requirement already satisfied: typing-extensions>=4.2.0 in c:\\users\\jakoa\\anaconda3\\lib\\site-packages (from pydantic!=1.8,!=1.8.1,<1.11.0,>=1.7.4->spacy) (4.3.0)\n",
      "Requirement already satisfied: six>=1.5 in c:\\users\\jakoa\\anaconda3\\lib\\site-packages (from python-dateutil>=2.8.1->pandas) (1.16.0)\n",
      "Requirement already satisfied: certifi>=2017.4.17 in c:\\users\\jakoa\\anaconda3\\lib\\site-packages (from requests<3.0.0,>=2.13.0->spacy) (2022.9.14)\n",
      "Requirement already satisfied: charset-normalizer<3,>=2 in c:\\users\\jakoa\\anaconda3\\lib\\site-packages (from requests<3.0.0,>=2.13.0->spacy) (2.0.4)\n",
      "Requirement already satisfied: idna<4,>=2.5 in c:\\users\\jakoa\\anaconda3\\lib\\site-packages (from requests<3.0.0,>=2.13.0->spacy) (3.3)\n",
      "Requirement already satisfied: urllib3<1.27,>=1.21.1 in c:\\users\\jakoa\\anaconda3\\lib\\site-packages (from requests<3.0.0,>=2.13.0->spacy) (1.26.11)\n",
      "Requirement already satisfied: blis<0.8.0,>=0.7.8 in c:\\users\\jakoa\\anaconda3\\lib\\site-packages (from thinc<8.2.0,>=8.1.8->spacy) (0.7.9)\n",
      "Requirement already satisfied: confection<1.0.0,>=0.0.1 in c:\\users\\jakoa\\anaconda3\\lib\\site-packages (from thinc<8.2.0,>=8.1.8->spacy) (0.0.4)\n",
      "Requirement already satisfied: colorama in c:\\users\\jakoa\\anaconda3\\lib\\site-packages (from tqdm<5.0.0,>=4.38.0->spacy) (0.4.6)\n",
      "Requirement already satisfied: scipy>=1.3.2 in c:\\users\\jakoa\\anaconda3\\lib\\site-packages (from imbalanced-learn->imblearn) (1.9.1)\n",
      "Requirement already satisfied: threadpoolctl>=2.0.0 in c:\\users\\jakoa\\anaconda3\\lib\\site-packages (from imbalanced-learn->imblearn) (2.2.0)\n",
      "Requirement already satisfied: scikit-learn>=1.0.2 in c:\\users\\jakoa\\anaconda3\\lib\\site-packages (from imbalanced-learn->imblearn) (1.0.2)\n",
      "Requirement already satisfied: MarkupSafe>=0.23 in c:\\users\\jakoa\\anaconda3\\lib\\site-packages (from jinja2->spacy) (2.0.1)\n",
      "Requirement already satisfied: kiwisolver>=1.0.1 in c:\\users\\jakoa\\anaconda3\\lib\\site-packages (from matplotlib->wordcloud) (1.4.2)\n",
      "Requirement already satisfied: fonttools>=4.22.0 in c:\\users\\jakoa\\anaconda3\\lib\\site-packages (from matplotlib->wordcloud) (4.25.0)\n",
      "Requirement already satisfied: cycler>=0.10 in c:\\users\\jakoa\\anaconda3\\lib\\site-packages (from matplotlib->wordcloud) (0.11.0)\n",
      "Note: you may need to restart the kernel to use updated packages.\n",
      "Collecting nb-core-news-sm==3.5.0\n",
      "  Downloading https://github.com/explosion/spacy-models/releases/download/nb_core_news_sm-3.5.0/nb_core_news_sm-3.5.0-py3-none-any.whl (12.5 MB)\n",
      "     ---------------------------------------- 12.5/12.5 MB 4.4 MB/s eta 0:00:00\n",
      "Requirement already satisfied: spacy<3.6.0,>=3.5.0 in c:\\users\\jakoa\\anaconda3\\lib\\site-packages (from nb-core-news-sm==3.5.0) (3.5.1)\n",
      "Requirement already satisfied: catalogue<2.1.0,>=2.0.6 in c:\\users\\jakoa\\anaconda3\\lib\\site-packages (from spacy<3.6.0,>=3.5.0->nb-core-news-sm==3.5.0) (2.0.8)\n",
      "Requirement already satisfied: spacy-legacy<3.1.0,>=3.0.11 in c:\\users\\jakoa\\anaconda3\\lib\\site-packages (from spacy<3.6.0,>=3.5.0->nb-core-news-sm==3.5.0) (3.0.12)\n",
      "Requirement already satisfied: jinja2 in c:\\users\\jakoa\\anaconda3\\lib\\site-packages (from spacy<3.6.0,>=3.5.0->nb-core-news-sm==3.5.0) (2.11.3)\n",
      "Requirement already satisfied: murmurhash<1.1.0,>=0.28.0 in c:\\users\\jakoa\\anaconda3\\lib\\site-packages (from spacy<3.6.0,>=3.5.0->nb-core-news-sm==3.5.0) (1.0.9)\n",
      "Requirement already satisfied: setuptools in c:\\users\\jakoa\\anaconda3\\lib\\site-packages (from spacy<3.6.0,>=3.5.0->nb-core-news-sm==3.5.0) (63.4.1)\n",
      "Requirement already satisfied: packaging>=20.0 in c:\\users\\jakoa\\anaconda3\\lib\\site-packages (from spacy<3.6.0,>=3.5.0->nb-core-news-sm==3.5.0) (21.3)\n",
      "Requirement already satisfied: typer<0.8.0,>=0.3.0 in c:\\users\\jakoa\\anaconda3\\lib\\site-packages (from spacy<3.6.0,>=3.5.0->nb-core-news-sm==3.5.0) (0.7.0)\n",
      "Requirement already satisfied: pydantic!=1.8,!=1.8.1,<1.11.0,>=1.7.4 in c:\\users\\jakoa\\anaconda3\\lib\\site-packages (from spacy<3.6.0,>=3.5.0->nb-core-news-sm==3.5.0) (1.10.7)\n",
      "Requirement already satisfied: thinc<8.2.0,>=8.1.8 in c:\\users\\jakoa\\anaconda3\\lib\\site-packages (from spacy<3.6.0,>=3.5.0->nb-core-news-sm==3.5.0) (8.1.9)\n",
      "Requirement already satisfied: wasabi<1.2.0,>=0.9.1 in c:\\users\\jakoa\\anaconda3\\lib\\site-packages (from spacy<3.6.0,>=3.5.0->nb-core-news-sm==3.5.0) (1.1.1)\n",
      "Requirement already satisfied: cymem<2.1.0,>=2.0.2 in c:\\users\\jakoa\\anaconda3\\lib\\site-packages (from spacy<3.6.0,>=3.5.0->nb-core-news-sm==3.5.0) (2.0.7)\n",
      "Requirement already satisfied: numpy>=1.15.0 in c:\\users\\jakoa\\anaconda3\\lib\\site-packages (from spacy<3.6.0,>=3.5.0->nb-core-news-sm==3.5.0) (1.21.5)\n",
      "Requirement already satisfied: pathy>=0.10.0 in c:\\users\\jakoa\\anaconda3\\lib\\site-packages (from spacy<3.6.0,>=3.5.0->nb-core-news-sm==3.5.0) (0.10.1)\n",
      "Requirement already satisfied: preshed<3.1.0,>=3.0.2 in c:\\users\\jakoa\\anaconda3\\lib\\site-packages (from spacy<3.6.0,>=3.5.0->nb-core-news-sm==3.5.0) (3.0.8)\n",
      "Requirement already satisfied: tqdm<5.0.0,>=4.38.0 in c:\\users\\jakoa\\anaconda3\\lib\\site-packages (from spacy<3.6.0,>=3.5.0->nb-core-news-sm==3.5.0) (4.64.1)\n",
      "Requirement already satisfied: smart-open<7.0.0,>=5.2.1 in c:\\users\\jakoa\\anaconda3\\lib\\site-packages (from spacy<3.6.0,>=3.5.0->nb-core-news-sm==3.5.0) (5.2.1)\n",
      "Requirement already satisfied: spacy-loggers<2.0.0,>=1.0.0 in c:\\users\\jakoa\\anaconda3\\lib\\site-packages (from spacy<3.6.0,>=3.5.0->nb-core-news-sm==3.5.0) (1.0.4)\n",
      "Requirement already satisfied: srsly<3.0.0,>=2.4.3 in c:\\users\\jakoa\\anaconda3\\lib\\site-packages (from spacy<3.6.0,>=3.5.0->nb-core-news-sm==3.5.0) (2.4.6)\n",
      "Requirement already satisfied: langcodes<4.0.0,>=3.2.0 in c:\\users\\jakoa\\anaconda3\\lib\\site-packages (from spacy<3.6.0,>=3.5.0->nb-core-news-sm==3.5.0) (3.3.0)\n",
      "Requirement already satisfied: requests<3.0.0,>=2.13.0 in c:\\users\\jakoa\\anaconda3\\lib\\site-packages (from spacy<3.6.0,>=3.5.0->nb-core-news-sm==3.5.0) (2.28.1)\n",
      "Requirement already satisfied: pyparsing!=3.0.5,>=2.0.2 in c:\\users\\jakoa\\anaconda3\\lib\\site-packages (from packaging>=20.0->spacy<3.6.0,>=3.5.0->nb-core-news-sm==3.5.0) (3.0.9)\n",
      "Requirement already satisfied: typing-extensions>=4.2.0 in c:\\users\\jakoa\\anaconda3\\lib\\site-packages (from pydantic!=1.8,!=1.8.1,<1.11.0,>=1.7.4->spacy<3.6.0,>=3.5.0->nb-core-news-sm==3.5.0) (4.3.0)\n",
      "Requirement already satisfied: urllib3<1.27,>=1.21.1 in c:\\users\\jakoa\\anaconda3\\lib\\site-packages (from requests<3.0.0,>=2.13.0->spacy<3.6.0,>=3.5.0->nb-core-news-sm==3.5.0) (1.26.11)\n",
      "Requirement already satisfied: charset-normalizer<3,>=2 in c:\\users\\jakoa\\anaconda3\\lib\\site-packages (from requests<3.0.0,>=2.13.0->spacy<3.6.0,>=3.5.0->nb-core-news-sm==3.5.0) (2.0.4)\n",
      "Requirement already satisfied: certifi>=2017.4.17 in c:\\users\\jakoa\\anaconda3\\lib\\site-packages (from requests<3.0.0,>=2.13.0->spacy<3.6.0,>=3.5.0->nb-core-news-sm==3.5.0) (2022.9.14)\n",
      "Requirement already satisfied: idna<4,>=2.5 in c:\\users\\jakoa\\anaconda3\\lib\\site-packages (from requests<3.0.0,>=2.13.0->spacy<3.6.0,>=3.5.0->nb-core-news-sm==3.5.0) (3.3)\n",
      "Requirement already satisfied: blis<0.8.0,>=0.7.8 in c:\\users\\jakoa\\anaconda3\\lib\\site-packages (from thinc<8.2.0,>=8.1.8->spacy<3.6.0,>=3.5.0->nb-core-news-sm==3.5.0) (0.7.9)\n",
      "Requirement already satisfied: confection<1.0.0,>=0.0.1 in c:\\users\\jakoa\\anaconda3\\lib\\site-packages (from thinc<8.2.0,>=8.1.8->spacy<3.6.0,>=3.5.0->nb-core-news-sm==3.5.0) (0.0.4)\n",
      "Requirement already satisfied: colorama in c:\\users\\jakoa\\anaconda3\\lib\\site-packages (from tqdm<5.0.0,>=4.38.0->spacy<3.6.0,>=3.5.0->nb-core-news-sm==3.5.0) (0.4.6)\n",
      "Requirement already satisfied: click<9.0.0,>=7.1.1 in c:\\users\\jakoa\\anaconda3\\lib\\site-packages (from typer<0.8.0,>=0.3.0->spacy<3.6.0,>=3.5.0->nb-core-news-sm==3.5.0) (8.0.4)\n",
      "Requirement already satisfied: MarkupSafe>=0.23 in c:\\users\\jakoa\\anaconda3\\lib\\site-packages (from jinja2->spacy<3.6.0,>=3.5.0->nb-core-news-sm==3.5.0) (2.0.1)\n",
      "\u001b[38;5;2m[+] Download and installation successful\u001b[0m\n",
      "You can now load the package via spacy.load('nb_core_news_sm')\n"
     ]
    }
   ],
   "source": [
    "%pip install spacy imblearn nltk numpy pandas wordcloud\n",
    "!python -m spacy download nb_core_news_sm"
   ]
  },
  {
   "cell_type": "code",
   "execution_count": 25,
   "id": "d7c8058a",
   "metadata": {},
   "outputs": [
    {
     "name": "stderr",
     "output_type": "stream",
     "text": [
      "[nltk_data] Downloading package stopwords to\n",
      "[nltk_data]     C:\\Users\\Jakoa\\AppData\\Roaming\\nltk_data...\n",
      "[nltk_data]   Package stopwords is already up-to-date!\n"
     ]
    },
    {
     "data": {
      "text/plain": [
       "True"
      ]
     },
     "execution_count": 25,
     "metadata": {},
     "output_type": "execute_result"
    }
   ],
   "source": [
    "import spacy\n",
    "import re\n",
    "import json\n",
    "import nltk\n",
    "import matplotlib.pyplot as plt\n",
    "from sklearn.naive_bayes import MultinomialNB\n",
    "from sklearn.metrics import classification_report, confusion_matrix, accuracy_score\n",
    "from sklearn.feature_extraction.text import TfidfVectorizer\n",
    "from nltk.corpus import stopwords\n",
    "from sklearn.linear_model import SGDClassifier\n",
    "from imblearn.over_sampling import BorderlineSMOTE\n",
    "from wordcloud import WordCloud\n",
    "\n",
    "\n",
    "nltk.download(\"stopwords\")"
   ]
  },
  {
   "cell_type": "markdown",
   "id": "9be1824c",
   "metadata": {},
   "source": [
    "### 2.1 Data set <a name='assign2dataset'><a/>\n",
    "\n",
    "The data set is provided as a set of three JSON files containing separate training, testing, and validation sets. We begin by loading all three files into a `data` variable.\n",
    "\n",
    "As the text in the data set is Norwegian, we begin by loading the set of Norwegian stop words and the spaCy natural language processing pipeline for Norwegian Bokmål."
   ]
  },
  {
   "cell_type": "code",
   "execution_count": 26,
   "id": "b1263971",
   "metadata": {},
   "outputs": [],
   "source": [
    "data = {}\n",
    "stops = stopwords.words('norwegian')\n",
    "nlp = spacy.load('nb_core_news_sm')"
   ]
  },
  {
   "cell_type": "code",
   "execution_count": 27,
   "id": "77365950",
   "metadata": {},
   "outputs": [],
   "source": [
    "for name in [\"train\", \"dev\", \"test\"]:\n",
    "    with open(\"{0}.json\".format(name)) as infile:\n",
    "        data[name] = json.load(infile)"
   ]
  },
  {
   "cell_type": "markdown",
   "id": "7ea0a76a",
   "metadata": {},
   "source": [
    "Next we load the train and test data into dataframes, and separate input text from labels."
   ]
  },
  {
   "cell_type": "code",
   "execution_count": 28,
   "id": "8c4e30b0",
   "metadata": {},
   "outputs": [],
   "source": [
    "train = pd.DataFrame.from_dict(data[\"train\"])\n",
    "test = pd.DataFrame.from_dict(data[\"test\"])\n",
    "# train\n",
    "# test"
   ]
  },
  {
   "cell_type": "code",
   "execution_count": 29,
   "id": "89f88d62",
   "metadata": {},
   "outputs": [],
   "source": [
    "X_train_raw = train['text']\n",
    "y_train = train['label']\n",
    "\n",
    "X_test_raw = test['text']\n",
    "y_test = test['label']\n",
    "\n",
    "# X_train_raw"
   ]
  },
  {
   "cell_type": "markdown",
   "id": "4aed54b8",
   "metadata": {},
   "source": [
    "### 2.2 Data analysis <a name='assign2dataanalysis'><a/>\n",
    "\n",
    "We begin by analyzing the training and test datasets. As shown by `value_counts`, the majority of samples in both datasets are classified as neutral. The training dataset contains a total of approx. 8000 samples, while test contains 1200.\n",
    "\n",
    "Additionally we can display 10 random samples to understand the format of the input."
   ]
  },
  {
   "cell_type": "code",
   "execution_count": 30,
   "id": "6de80f0f",
   "metadata": {},
   "outputs": [
    {
     "data": {
      "text/plain": [
       "label\n",
       "Neutral     4079\n",
       "Positive    2624\n",
       "Negative    1270\n",
       "dtype: int64"
      ]
     },
     "execution_count": 30,
     "metadata": {},
     "output_type": "execute_result"
    }
   ],
   "source": [
    "train.value_counts('label')"
   ]
  },
  {
   "cell_type": "code",
   "execution_count": 31,
   "id": "9eb8d1ff",
   "metadata": {},
   "outputs": [
    {
     "data": {
      "text/plain": [
       "label\n",
       "Neutral     598\n",
       "Positive    401\n",
       "Negative    182\n",
       "dtype: int64"
      ]
     },
     "execution_count": 31,
     "metadata": {},
     "output_type": "execute_result"
    }
   ],
   "source": [
    "test.value_counts('label')"
   ]
  },
  {
   "cell_type": "code",
   "execution_count": 32,
   "id": "60a47ffa",
   "metadata": {},
   "outputs": [
    {
     "data": {
      "text/html": [
       "<div>\n",
       "<style scoped>\n",
       "    .dataframe tbody tr th:only-of-type {\n",
       "        vertical-align: middle;\n",
       "    }\n",
       "\n",
       "    .dataframe tbody tr th {\n",
       "        vertical-align: top;\n",
       "    }\n",
       "\n",
       "    .dataframe thead th {\n",
       "        text-align: right;\n",
       "    }\n",
       "</style>\n",
       "<table border=\"1\" class=\"dataframe\">\n",
       "  <thead>\n",
       "    <tr style=\"text-align: right;\">\n",
       "      <th></th>\n",
       "      <th>sent_id</th>\n",
       "      <th>text</th>\n",
       "      <th>label</th>\n",
       "    </tr>\n",
       "  </thead>\n",
       "  <tbody>\n",
       "    <tr>\n",
       "      <th>2823</th>\n",
       "      <td>703730-03-02</td>\n",
       "      <td>Diktene hans utgjør i tillegg tekstene .</td>\n",
       "      <td>Neutral</td>\n",
       "    </tr>\n",
       "    <tr>\n",
       "      <th>6807</th>\n",
       "      <td>102095-03-01</td>\n",
       "      <td>Maria Mena Norwegian Wood Publikum :</td>\n",
       "      <td>Neutral</td>\n",
       "    </tr>\n",
       "    <tr>\n",
       "      <th>882</th>\n",
       "      <td>101014-01-02</td>\n",
       "      <td>Tullmannens læregutt</td>\n",
       "      <td>Negative</td>\n",
       "    </tr>\n",
       "    <tr>\n",
       "      <th>5000</th>\n",
       "      <td>200607-11-01</td>\n",
       "      <td>Les :</td>\n",
       "      <td>Neutral</td>\n",
       "    </tr>\n",
       "    <tr>\n",
       "      <th>5557</th>\n",
       "      <td>101562-01-01</td>\n",
       "      <td>Filmanmeldelse :</td>\n",
       "      <td>Neutral</td>\n",
       "    </tr>\n",
       "    <tr>\n",
       "      <th>6423</th>\n",
       "      <td>106155-06-02</td>\n",
       "      <td>Normalt ville jeg kanskje startet med å fortel...</td>\n",
       "      <td>Positive</td>\n",
       "    </tr>\n",
       "    <tr>\n",
       "      <th>478</th>\n",
       "      <td>501037-06-02</td>\n",
       "      <td>Det er det eneste som ville fungert for Tor En...</td>\n",
       "      <td>Negative</td>\n",
       "    </tr>\n",
       "    <tr>\n",
       "      <th>825</th>\n",
       "      <td>002618-07-01</td>\n",
       "      <td>De fine tilløpene til tross , Ghost Stories er...</td>\n",
       "      <td>Negative</td>\n",
       "    </tr>\n",
       "    <tr>\n",
       "      <th>7498</th>\n",
       "      <td>702603-04-03</td>\n",
       "      <td>Fra første referanse tilHollywood-folkloren on...</td>\n",
       "      <td>Negative</td>\n",
       "    </tr>\n",
       "    <tr>\n",
       "      <th>6928</th>\n",
       "      <td>700338-08-03</td>\n",
       "      <td>Regissøren må ha tryllet rikelig digitalt for ...</td>\n",
       "      <td>Positive</td>\n",
       "    </tr>\n",
       "  </tbody>\n",
       "</table>\n",
       "</div>"
      ],
      "text/plain": [
       "           sent_id                                               text  \\\n",
       "2823  703730-03-02           Diktene hans utgjør i tillegg tekstene .   \n",
       "6807  102095-03-01               Maria Mena Norwegian Wood Publikum :   \n",
       "882   101014-01-02                               Tullmannens læregutt   \n",
       "5000  200607-11-01                                              Les :   \n",
       "5557  101562-01-01                                   Filmanmeldelse :   \n",
       "6423  106155-06-02  Normalt ville jeg kanskje startet med å fortel...   \n",
       "478   501037-06-02  Det er det eneste som ville fungert for Tor En...   \n",
       "825   002618-07-01  De fine tilløpene til tross , Ghost Stories er...   \n",
       "7498  702603-04-03  Fra første referanse tilHollywood-folkloren on...   \n",
       "6928  700338-08-03  Regissøren må ha tryllet rikelig digitalt for ...   \n",
       "\n",
       "         label  \n",
       "2823   Neutral  \n",
       "6807   Neutral  \n",
       "882   Negative  \n",
       "5000   Neutral  \n",
       "5557   Neutral  \n",
       "6423  Positive  \n",
       "478   Negative  \n",
       "825   Negative  \n",
       "7498  Negative  \n",
       "6928  Positive  "
      ]
     },
     "execution_count": 32,
     "metadata": {},
     "output_type": "execute_result"
    }
   ],
   "source": [
    "train.sample(n=10)"
   ]
  },
  {
   "cell_type": "markdown",
   "id": "163f34e5",
   "metadata": {},
   "source": [
    "### 2.2 Data processing <a name='assign2dataprocess'><a/>  \n",
    "  \n",
    "Since we cannot go straight from raw text to fitting a model to the data we need to clean up the text first. Splitting the text into words, handling punctuation and lower casing everything. The function in the next cell cleans up the data, taking into account norwegian characters, removing special characters, removes all single characters, removes inconsistent spacing, and lemmatizes the text. The if-statements are for debug and data visualization purposes.     \n",
    "\n",
    "Step by step of what the function does:\n",
    "**Original: \"Med integrerte høyttalere som på ingen måte er diskret plassert   og med en stor subwoofer inkludert   da snakker vi om en gutteskjerm\"**  \n",
    "  \n",
    "`re.sub(r'\\s+[a-zA-ZæøåÆØÅ]\\s+', ' ', document)` Removes single characters, and `re.sub(r'\\^[a-zA-ZæøåÆØÅ]\\s+', ' ', document)` removes single characters at the start of a sentiment.  \n",
    "\n",
    "**Removed single characters: \"Med integrerte høyttalere som på ingen måte er diskret plassert   og med en stor subwoofer inkludert   da snakker vi om en gutteskjerm\"**  \n",
    "\n",
    "`re.sub(r'\\s+', ' ', document, flags=re.I)` is used to remove inconsistent spacing, replacing it with a single space instead. `document.lower()` is just a built in python function to make text lowercase.\n",
    "\n",
    "**Lowercase: \"med integrerte høyttalere som på ingen måte er diskret plassert og med en stor subwoofer inkludert da snakker vi om en gutteskjerm\"**  \n",
    "\n",
    "Finally the text is lemmatized using `document = nlp(document)`.\n",
    "\n",
    "**Lemmatized**: `['med', 'integrert', 'høyttal', 'som', 'på', 'ingen', 'måte', 'være', 'diskre', 'plassere', 'og', 'med', 'en', 'stor', 'subwoof', 'inkludere', 'da', 'snakke', 'vi', 'om', 'en', 'gutteskjerm']`"
   ]
  },
  {
   "cell_type": "code",
   "execution_count": 33,
   "id": "08c57539",
   "metadata": {},
   "outputs": [],
   "source": [
    "stemmer = nlp.get_pipe('lemmatizer')\n",
    "\n",
    "def clean_text(X: list[str], n_to_print=0):\n",
    "    documents = []\n",
    "    for sen in range(0, len(X)):\n",
    "        # Remove all the special characters\n",
    "        document = re.sub(r'\\W', ' ', str(X[sen]))\n",
    "\n",
    "        #if len(documents) < n_to_print:\n",
    "        #    print('Original:', document)\n",
    "\n",
    "        # remove all single characters\n",
    "        document = re.sub(r'\\s+[a-zA-ZæøåÆØÅ]\\s+', ' ', document)\n",
    "\n",
    "        # Remove single characters from the start\n",
    "        document = re.sub(r'\\^[a-zA-ZæøåÆØÅ]\\s+', ' ', document)\n",
    "\n",
    "        #if len(documents) < n_to_print:\n",
    "        #    print('Removed single characters:', document)\n",
    "\n",
    "        # Substituting multiple spaces with single space\n",
    "        document = re.sub(r'\\s+', ' ', document, flags=re.I)\n",
    "\n",
    "        # Converting to Lowercase\n",
    "        document = document.lower()\n",
    "\n",
    "        #if len(documents) < n_to_print:\n",
    "        #    print('Lowercase:', document)\n",
    "\n",
    "        # Lemmatization\n",
    "        document = nlp(document)\n",
    "\n",
    "        document = [word.lemma_ for word in document]\n",
    "\n",
    "        #if len(documents) < n_to_print:\n",
    "        #    print('Lemmatized:', document)\n",
    "        document = ' '.join(document)\n",
    "\n",
    "        documents.append(document)\n",
    "    return documents"
   ]
  },
  {
   "cell_type": "markdown",
   "id": "7cb4ac14",
   "metadata": {},
   "source": [
    "### 2.3 Vectorizer <a name='assign2vectorizer'><a/> \n",
    "  \n",
    "The Vectorizer we've chosen for this task is the TfidVectorizer. The vectorizer converts data to a matrix of said TD-IDF features. It's equivelant to doing a `CountVectorizer` followed by `TfidfTransformer`. The vectorizer is where we grab the stopwords for use in the model.  \n",
    "  \n",
    "The point of using tf-idf instead of raw-frequencies is to reduce the impact very frequent words and increase the impact of words that occur less frequently. For example, this is different to how a Bag of Words implementation functions as it just creates vectors with the count of each occurance of a word."
   ]
  },
  {
   "cell_type": "code",
   "execution_count": 34,
   "id": "7aa8bdaf",
   "metadata": {},
   "outputs": [],
   "source": [
    "# Vectorizer defined here, as well as stopwords being implemented into the the vectorizer.\n",
    "vectorizer = TfidfVectorizer(stop_words=stops, ngram_range=(1,2))\n",
    "# Tfid stands for \"Term Frequence-inverse Document Frequency\"."
   ]
  },
  {
   "cell_type": "code",
   "execution_count": 35,
   "id": "f6ff6069",
   "metadata": {},
   "outputs": [],
   "source": [
    "X_train_lemmas = clean_text(X_train_raw, 2)\n",
    "X_test_lemmas = clean_text(X_test_raw)\n",
    "\n",
    "X_train = vectorizer.fit_transform(X_train_lemmas).toarray()\n",
    "X_test = vectorizer.transform(X_test_lemmas).toarray()"
   ]
  },
  {
   "cell_type": "markdown",
   "id": "f4eb4a61",
   "metadata": {},
   "source": [
    "### 2.4 Data visualization <a name='assign2datavis'></a>\n",
    "Now that the data has been vectorized, we can see below that it produces a large array of mostly 0, as expected. To visualize some of the words and their frequency in the data-set post processing we can use a wordcloud to illustrate the most frequently used words. "
   ]
  },
  {
   "cell_type": "code",
   "execution_count": 36,
   "id": "b31a9919",
   "metadata": {},
   "outputs": [
    {
     "data": {
      "text/plain": [
       "array([[0., 0., 0., ..., 0., 0., 0.],\n",
       "       [0., 0., 0., ..., 0., 0., 0.],\n",
       "       [0., 0., 0., ..., 0., 0., 0.],\n",
       "       ...,\n",
       "       [0., 0., 0., ..., 0., 0., 0.],\n",
       "       [0., 0., 0., ..., 0., 0., 0.],\n",
       "       [0., 0., 0., ..., 0., 0., 0.]])"
      ]
     },
     "execution_count": 36,
     "metadata": {},
     "output_type": "execute_result"
    }
   ],
   "source": [
    "X_train"
   ]
  },
  {
   "cell_type": "code",
   "execution_count": 37,
   "id": "a274078b",
   "metadata": {},
   "outputs": [
    {
     "data": {
      "image/png": "[encoded data removed]",
      "text/plain": [
       "<Figure size 500x500 with 1 Axes>"
      ]
     },
     "metadata": {},
     "output_type": "display_data"
    }
   ],
   "source": [
    "X_train_wc = []\n",
    "\n",
    "for i in X_train_lemmas:\n",
    "    for k in i.split():\n",
    "        if k not in stops:\n",
    "            X_train_wc.append(k)\n",
    "\n",
    "wordcloud = WordCloud(width = 800, height = 800,\n",
    "                background_color ='white',\n",
    "                # stopwords = stopwords,\n",
    "                min_font_size = 10).generate((' '.join(X_train_wc)))\n",
    "\n",
    "# print(X_train_wc)\n",
    "plt.figure(figsize = (5, 5), facecolor = None)\n",
    "plt.imshow(wordcloud)\n",
    "plt.tight_layout(pad = 0)\n",
    "\n",
    "plt.show()"
   ]
  },
  {
   "cell_type": "markdown",
   "id": "5a8a7acc",
   "metadata": {},
   "source": [
    "Unfortunately this approach does not take into account the TFIDvectorized data or labels from the data set, and just bases it of of word frequency. Because of this, there is not much useful to see, but nonetheless there is some information we can get from it. \"God\" can conventionally be associated with a positive sentiment, but most of the other words in this wordcloud can be neutral, positive, or negative. "
   ]
  },
  {
   "cell_type": "markdown",
   "id": "42d50fd9",
   "metadata": {},
   "source": [
    "### 2.5 Classifier  <a name='assign2classifier'></a>\n",
    "  \n",
    "For the classifier we've tried `SGDClassifier`, `MultinomialNB`, and `BernoulliNB`.  "
   ]
  },
  {
   "cell_type": "code",
   "execution_count": 38,
   "id": "79b7006a",
   "metadata": {},
   "outputs": [
    {
     "name": "stdout",
     "output_type": "stream",
     "text": [
      "BernoulliNB: 0.5097375105842507\n"
     ]
    }
   ],
   "source": [
    "classifierB = BernoulliNB()\n",
    "classifierB.fit(X_train, y_train)\n",
    "y_predB = classifierB.predict(X_test)\n",
    "print(f'BernoulliNB: {accuracy_score(y_test, y_predB)}')"
   ]
  },
  {
   "cell_type": "code",
   "execution_count": 39,
   "id": "18ac8dc6",
   "metadata": {},
   "outputs": [
    {
     "name": "stdout",
     "output_type": "stream",
     "text": [
      "MultinomialNB: 0.56731583403895\n"
     ]
    }
   ],
   "source": [
    "classifierM = MultinomialNB()\n",
    "classifierM.fit(X_train, y_train)\n",
    "y_predM = classifierM.predict(X_test)\n",
    "print(f'MultinomialNB: {accuracy_score(y_test, y_predM)}')"
   ]
  },
  {
   "cell_type": "code",
   "execution_count": 40,
   "id": "11f4e788",
   "metadata": {},
   "outputs": [],
   "source": [
    "classifier = SGDClassifier()\n",
    "classifier.fit(X_train, y_train)\n",
    "y_pred = classifier.predict(X_test)"
   ]
  },
  {
   "cell_type": "code",
   "execution_count": 41,
   "id": "d4f10016",
   "metadata": {},
   "outputs": [
    {
     "name": "stdout",
     "output_type": "stream",
     "text": [
      "Non-rescaled: 0.6333615580016935\n"
     ]
    }
   ],
   "source": [
    "print(f'Non-rescaled: {accuracy_score(y_test, y_pred)}')"
   ]
  },
  {
   "cell_type": "code",
   "execution_count": 42,
   "id": "cab4c5a2",
   "metadata": {},
   "outputs": [
    {
     "name": "stdout",
     "output_type": "stream",
     "text": [
      "[[ 38  81  63]\n",
      " [ 30 448 120]\n",
      " [ 27 112 262]]\n"
     ]
    }
   ],
   "source": [
    "print(confusion_matrix(y_test, y_pred))"
   ]
  },
  {
   "cell_type": "code",
   "execution_count": 43,
   "id": "94a7efe0",
   "metadata": {},
   "outputs": [
    {
     "name": "stdout",
     "output_type": "stream",
     "text": [
      "              precision    recall  f1-score   support\n",
      "\n",
      "    Negative       0.40      0.21      0.27       182\n",
      "     Neutral       0.70      0.75      0.72       598\n",
      "    Positive       0.59      0.65      0.62       401\n",
      "\n",
      "    accuracy                           0.63      1181\n",
      "   macro avg       0.56      0.54      0.54      1181\n",
      "weighted avg       0.62      0.63      0.62      1181\n",
      "\n"
     ]
    }
   ],
   "source": [
    "print(classification_report(y_test, y_pred))"
   ]
  },
  {
   "cell_type": "markdown",
   "id": "e38cfd50",
   "metadata": {},
   "source": [
    "As you can see by the results both `MultinomialNB`, and `BernoulliNB` produced quite poor results so we went with `SGDClassifier` as it produced the best overall result of the three. However the result are bad, but expected given the provided data set we have to use for the assignment. "
   ]
  },
  {
   "cell_type": "markdown",
   "id": "147f8079",
   "metadata": {},
   "source": [
    "### 2.6 Resampling  <a name='assign2resampling'></a>\n",
    "\n",
    "For this data-set .63 accuracy is to be expected, but still quite bad. In an attempt to remedy this we tried resampling the data-set using `BorderlineSMOTE`. This algorithm generates additional samples similar to those present in the data set, providing additional samples to under-represented classes. In this data set it creates significantly more negative and positive data-points for the classifier to work with. This can however reduce accuracy as it essentially fills the data set with filler data, which can make it more difficult for the model to be trained."
   ]
  },
  {
   "cell_type": "code",
   "execution_count": 44,
   "id": "94b67150",
   "metadata": {},
   "outputs": [],
   "source": [
    "resampler = BorderlineSMOTE(random_state=123)\n",
    "\n",
    "X_train_res, y_train_res = resampler.fit_resample(X_train, y_train)"
   ]
  },
  {
   "cell_type": "markdown",
   "id": "18e67c3c",
   "metadata": {},
   "source": [
    "Let's see how many values it has once resampled."
   ]
  },
  {
   "cell_type": "code",
   "execution_count": 45,
   "id": "0bdad481",
   "metadata": {},
   "outputs": [
    {
     "data": {
      "text/plain": [
       "Neutral     4079\n",
       "Negative    4079\n",
       "Positive    4079\n",
       "Name: label, dtype: int64"
      ]
     },
     "execution_count": 45,
     "metadata": {},
     "output_type": "execute_result"
    }
   ],
   "source": [
    "y_train_res.value_counts() # Rescaled"
   ]
  },
  {
   "cell_type": "code",
   "execution_count": 46,
   "id": "5e112661",
   "metadata": {},
   "outputs": [
    {
     "data": {
      "text/plain": [
       "Neutral     4079\n",
       "Positive    2624\n",
       "Negative    1270\n",
       "Name: label, dtype: int64"
      ]
     },
     "execution_count": 46,
     "metadata": {},
     "output_type": "execute_result"
    }
   ],
   "source": [
    "y_train.value_counts() # non-Rescaled"
   ]
  },
  {
   "cell_type": "markdown",
   "id": "381a928e",
   "metadata": {},
   "source": [
    "As you can see the difference in number of values quite significant. This makes for a very skewed data-set which is quite suboptimal for machine learning. A skewed data-set can lead to the model not identifying the correct sentiment making the training inneficcient.  \n",
    "\n",
    "So let's feed it back into the classifier and see what accuracy it achives when the input-data is equalized. We don't expect it to do much, as it's still roughly the same data, but it can interesting to look at the difference in the classification report."
   ]
  },
  {
   "cell_type": "code",
   "execution_count": 47,
   "id": "fccd595b",
   "metadata": {},
   "outputs": [],
   "source": [
    "classifier_res = SGDClassifier()\n",
    "classifier_res.fit(X_train_res, y_train_res)\n",
    "y_pred_res = classifier_res.predict(X_test)"
   ]
  },
  {
   "cell_type": "code",
   "execution_count": 48,
   "id": "658e3c0c",
   "metadata": {},
   "outputs": [
    {
     "name": "stdout",
     "output_type": "stream",
     "text": [
      "Rescaled: 0.6121930567315834\n"
     ]
    }
   ],
   "source": [
    "print(f'Rescaled: {accuracy_score(y_test, y_pred_res)}')"
   ]
  },
  {
   "cell_type": "code",
   "execution_count": 49,
   "id": "6ef7903a",
   "metadata": {},
   "outputs": [
    {
     "name": "stdout",
     "output_type": "stream",
     "text": [
      "[[ 52  71  59]\n",
      " [ 67 412 119]\n",
      " [ 40 102 259]]\n"
     ]
    }
   ],
   "source": [
    "print(confusion_matrix(y_test, y_pred_res))"
   ]
  },
  {
   "cell_type": "code",
   "execution_count": 50,
   "id": "1f99ecc0",
   "metadata": {},
   "outputs": [
    {
     "name": "stdout",
     "output_type": "stream",
     "text": [
      "              precision    recall  f1-score   support\n",
      "\n",
      "    Negative       0.33      0.29      0.30       182\n",
      "     Neutral       0.70      0.69      0.70       598\n",
      "    Positive       0.59      0.65      0.62       401\n",
      "\n",
      "    accuracy                           0.61      1181\n",
      "   macro avg       0.54      0.54      0.54      1181\n",
      "weighted avg       0.61      0.61      0.61      1181\n",
      "\n"
     ]
    }
   ],
   "source": [
    "print(classification_report(y_test, y_pred_res))"
   ]
  },
  {
   "cell_type": "markdown",
   "id": "1e415a91",
   "metadata": {},
   "source": [
    "### 2.7 Results Discussion  <a name='assign2result'></a>\n",
    "\n",
    "The results of this sentiment analysis are not great, 0.63 accuracy is practically a coinflip and is not practically useful, but is expected from the given data-set. In an attempt to improve the accuracy we rescaled the data-set to try and account for the skewed data-set, but still seeing quite bad results. The reason for this could be a poor choice of machine learning, but we think the main issue is that the skewed data-set doesn't give the model enough to go off of.\n",
    "\n",
    "Analysing the classification reports we can glean some information about the model. In the first classification report the model has a negative recall of `.19`, meaning that out of `100` negative sentences, it would misclassify `81` of them. These numbers are slightly improved in the rescaled classifier, to `.29` negative recall. The numbers of neutral and positive recall are significantly higher, but similarly are also quite poor. For negative precision we see it scores `.45` meaning that for `55` of the sentences if the classifier says it's negative, it's wrong. In the rescaled classifier the negative precision actually goes down significantly to `.33`, meaning that for `67` of the sentences the classifier says is negative is wrong.\n",
    "\n",
    "The main reason for this poor, but expected result is the severely skewed data-set as shown earlier. There are ~4000 neutral and ~2700 positive sentiments compared to only ~1200 negative sentiments. This leads to the model not being able to classify negative sentiments properly. Which is onviously not desirable when doing sentiment analysis. We think the approach to sentiment analysis outlined in this assignment would work on a better data set."
   ]
  },
  {
   "cell_type": "markdown",
   "id": "f4e24edc",
   "metadata": {},
   "source": [
    "# Task 3 - Convolutional Neural Network (CNN) <a name='task3'></a>\n",
    "The goal of this task is to train a CNN to predict if a picture contains a `Airplane` or `Not`. This is done by using the cifar-10 dataset."
   ]
  },
  {
   "cell_type": "code",
   "execution_count": 1,
   "id": "bf0ed627",
   "metadata": {},
   "outputs": [
    {
     "data": {
      "text/plain": [
       "<torch._C.Generator at 0x7f8799fd7cb0>"
      ]
     },
     "execution_count": 1,
     "metadata": {},
     "output_type": "execute_result"
    }
   ],
   "source": [
    "import numpy as np\n",
    "import torch\n",
    "import torch.nn as nn\n",
    "import torch.optim as optim\n",
    "from datetime import datetime\n",
    "from torchvision import datasets, transforms\n",
    "from torch.utils.data import random_split\n",
    "from matplotlib import pyplot as plt\n",
    "import matplotlib.image as mpimg\n",
    "import torch.nn.functional as F\n",
    "from PIL import Image \n",
    "import torchvision.transforms as transforms \n",
    "\n",
    "torch.manual_seed(123)"
   ]
  },
  {
   "cell_type": "markdown",
   "id": "a86e40c3",
   "metadata": {},
   "source": [
    "## 3.1 Loading and preprocessing CIFAR-10<a name='CIFAR-10'></a>\n",
    "This code loads and preprocess the CIFAR-10 dataset. creates training, validation, and test sets for a binary classification problem, whether an image contains an airplane or not. \n",
    "### Preprocessing\n",
    "- ``transforms.ToTensor()``\n",
    "    - Turns the input pictures to a PyTorch tensor\n",
    "- ``transforms.Normalize``\n",
    "    - Important for helping the model to learn fater by using mean and std values that are spesific for the CIFAR-10 datasett. \n",
    "- ``transforms.Compose()``\n",
    "    - Makes sure that both preprocessing steps are being runed at the same time\n",
    "    \n",
    "### Loading\n",
    "Both the ``cifar10_train_val``and ``cifar10_test``uses the PyTorch function ``datasets.CIFAR10()``to download the CIFAR-10 dateset and transformates the imgs using ``preprocessor``then stores the dataset into memory. The ``cifar10_train_val`` uses traning data while ``cifar10_test`` uses test data.\n",
    "\n",
    "### Label\n",
    "The ``label_map``makes turns the 10 labels into 2 categories ``Not`` or ``Airplane``. The ``label_map`` is then used in ``cifar2_train_val`` and ``cifar2_test`` so this dataset has binary labels instead of 10. ``cifar2_train_val``gets slpitted to ``n_train`` and ``n_val``. ``n_train`` takes 90% of the dataset and ``n_val`` takes the remaning 10%. The manual_seed(123) is for making the randomnes deterministic so it can be reproducible."
   ]
  },
  {
   "cell_type": "code",
   "execution_count": 2,
   "id": "9c923e64",
   "metadata": {},
   "outputs": [
    {
     "name": "stdout",
     "output_type": "stream",
     "text": [
      "Downloading https://www.cs.toronto.edu/~kriz/cifar-10-python.tar.gz to ../data/cifar-10-python.tar.gz\n"
     ]
    },
    {
     "name": "stderr",
     "output_type": "stream",
     "text": [
      "100%|████████████████████████| 170498071/170498071 [00:19<00:00, 8575104.35it/s]\n"
     ]
    },
    {
     "name": "stdout",
     "output_type": "stream",
     "text": [
      "Extracting ../data/cifar-10-python.tar.gz to ../data/\n",
      "Files already downloaded and verified\n"
     ]
    }
   ],
   "source": [
    "# Based on code from the pytorch tutorials from INF265 - Deep Learning\n",
    "\n",
    "data_path = '../data/' #where the CIFAR-10 is located\n",
    "preprocessor = transforms.Compose([\n",
    "            transforms.ToTensor(),\n",
    "            transforms.Normalize #This is to normalize the RGB colors for the CIFAR-10 dataset.\n",
    "    ((0.4915, 0.4823, 0.4468), #Mean values of RGB\n",
    "    (0.2470, 0.2435, 0.2616))  #Standard deviation of RGB\n",
    "        ])\n",
    "\n",
    "cifar10_train_val = list(datasets.CIFAR10(data_path, train=True, download=True, transform=preprocessor))\n",
    "cifar10_test = list(datasets.CIFAR10(data_path, train=False, download=True, transform=preprocessor))\n",
    "\n",
    "label_map = {0: 1, 1: 0, 2: 0, 3: 0, 4: 0, 5: 0, 6: 0, 7: 0, 8: 0, 9: 0}\n",
    "class_names = ['Not', 'Airplane']\n",
    "\n",
    "\n",
    "cifar2_train_val = [(img, label_map[label]) for img, label in cifar10_train_val]\n",
    "cifar2_test = [(img, label_map[label]) for img, label in cifar10_test]\n",
    "\n",
    "\n",
    "\n",
    "n_train = int(len(cifar2_train_val)*0.90)\n",
    "n_val =  len(cifar2_train_val) - n_train\n",
    "cifar2_train, cifar2_val = random_split(\n",
    "        cifar2_train_val, \n",
    "        [n_train, n_val],\n",
    "        generator=torch.Generator().manual_seed(123)\n",
    ")\n"
   ]
  },
  {
   "cell_type": "markdown",
   "id": "8ffce3c5",
   "metadata": {},
   "source": [
    "## 3.2 CNN LeNet-5 inspired architecture<a name='CNN'></a>\n",
    "### Structure\n",
    "- ``conv1`` is the first convolution layer it has 3 ``in_channels`` that is the RGB-colors, this gets turned into 6 ``out_channels``. The filtersize/``kernel_size`` is 5, ``stride`` = 1 this means that the filter jumps 1 column each step. there are no padding used in this model. the output of this layer can be calculated by using this formula $(Input−Kernel+2Padding)/Stirde+1$ and then multiply this by number of ``out_channels`` in this case 6. In this senario it would be\n",
    "$(32-5+0)/1+1 = 28 $ then times 6.\n",
    "\n",
    "- ``act1``is using ReLU function (Rectified Linear Unit) which changes all negative numbers to 0 while the positive numbers dosen't get changed.\n",
    "\n",
    "- ``pool1`` task is to extract the most important information/patterns from the conv layer and reducing the dimension of the tensor. \n",
    "\n",
    "- ``flat`` converts the dimension of the tensor to 1D so it can have the right dimension for pushing it through the fully connected layers ``fc1`` ``fc2`` `fc3`.\n",
    "\n",
    "- The `forward` function determine the order of the journey from input to output. As you can se in `fc3` the `out_features` = 2 which represents the `Not` and `Airplane` labels.\n"
   ]
  },
  {
   "cell_type": "code",
   "execution_count": 3,
   "id": "6234b28b",
   "metadata": {},
   "outputs": [],
   "source": [
    "class MyCNN(nn.Module):\n",
    "    def __init__(self):\n",
    "        super().__init__()  # to inherit the '__init__' method from the 'nn.Module' class\n",
    "        # Some conventions:\n",
    "        # - conv stands for convolution\n",
    "        # - pool for pooling\n",
    "        # - fc for fully connected\n",
    "        # based on Lenet-5\n",
    "\n",
    "        # 32*32*3: determined by our dataset: 32x32 RGB images\n",
    "        self.conv1 = nn.Conv2d(in_channels = 3, out_channels = 6, kernel_size = 5, stride = 1, padding = 0)\n",
    "        self.act1 = nn.ReLU()\n",
    "        self.pool1 = nn.MaxPool2d(kernel_size = 2, stride = 2, padding = 0)\n",
    "        \n",
    "        self.conv2 = nn.Conv2d(in_channels = 6, out_channels = 16, kernel_size = 5, stride = 1, padding = 0)\n",
    "        self.pool2 = nn.MaxPool2d(kernel_size = 2, stride = 2, padding = 0)\n",
    "        \n",
    "        self.conv3 = nn.Conv2d(in_channels = 16, out_channels = 120, kernel_size = 5, stride = 1, padding = 0)\n",
    "        \n",
    "        self.flat = nn.Flatten()\n",
    "        \n",
    "        self.fc1 = nn.Linear(in_features = 120 , out_features = 84) # 5 is height 8 is width and 120 is nr channels.\n",
    "        self.fc2 = nn.Linear(in_features = 84 , out_features = 10)\n",
    "        self.fc3 = nn.Linear(in_features = 10 , out_features = 2) #C + 5 components\n",
    "         \n",
    "        \n",
    "             \n",
    "\n",
    "    def forward(self, x):\n",
    "        out = self.act1(self.conv1(x))\n",
    "        out = self.pool1(out)\n",
    "        out = self.act1(self.conv2(out))\n",
    "        out = self.pool2(out)\n",
    "        out = self.act1(self.conv3(out))\n",
    "        out = self.flat(out)\n",
    "        out = self.act1(self.fc1(out))\n",
    "        out = self.act1(self.fc2(out))\n",
    "        out = self.fc3(out)\n",
    "        \n",
    "        return out"
   ]
  },
  {
   "cell_type": "markdown",
   "id": "b862f2bc",
   "metadata": {},
   "source": [
    "## 3.3 Train function<a name='trainfunction'></a>\n",
    "The train function trains the model (`MyCNN`) using the following paarameters:\n",
    "- `n_epochs` number of epochst that the model is getting trained. \n",
    "- `optimizer` adjust a model's weights with the goal of tuning them so they minimize the value of loss function, this is done by using Stochastic gradient descent (SGD)\n",
    "- `loss_fn` gives feedback on how well the predicted outputs is to the true labels. Lower values means better predictions.\n",
    "- `train_loader` this is the datasett used for traing the model.\n",
    "\n",
    "The `train`function returns the `losses_train` which is caluculated by taking the loss values of the predictions compared to the true labels `loss_train`. Since it gets computed in batches and added together we have to devide the total loss number by number of batches.\n"
   ]
  },
  {
   "cell_type": "code",
   "execution_count": 4,
   "id": "63f5c905",
   "metadata": {},
   "outputs": [],
   "source": [
    "def train(n_epochs, optimizer, model, loss_fn, train_loader):\n",
    "    \n",
    "    n_batch = len(train_loader)\n",
    "    \n",
    "    # Stores the training loss for each epoch\n",
    "    losses_train = []\n",
    "    \n",
    "    # Set the network in training mode\n",
    "    model.train()\n",
    "    \n",
    "    # Re-initialize gradients, just in case the model has been inappropriately \n",
    "    # manipulated before the training\n",
    "    optimizer.zero_grad(set_to_none=True)\n",
    "    \n",
    "    for epoch in range(1, n_epochs + 1): \n",
    "        \n",
    "        # Training loss for the current epoch\n",
    "        loss_train = 0\n",
    "\n",
    "        # Loop over our dataset (in batches the data loader creates for us)\n",
    "        for imgs, labels in train_loader:\n",
    "            \n",
    "            # Feed a batch into our model\n",
    "            outputs = model(imgs)\n",
    "            \n",
    "            # Compute the loss we wish to minimize \n",
    "            loss = loss_fn(outputs, labels) \n",
    "            \n",
    "            # Perform the backward step. That is, compute the gradients of all parameters we want the network to learn\n",
    "            loss.backward()\n",
    "            \n",
    "            # Update the model\n",
    "            optimizer.step() \n",
    "            \n",
    "            # Zero out gradients before the next round (or the end of training)\n",
    "            optimizer.zero_grad() \n",
    "\n",
    "            # Update loss for this epoch\n",
    "            # It is important to transform the loss to a number with .item()\n",
    "            loss_train += loss.item()\n",
    "            \n",
    "        # Store current epoch loss. \n",
    "        losses_train.append(loss_train / n_batch)\n",
    "        \n",
    "\n",
    "        if epoch == 1 or epoch % 10 == 0:\n",
    "            print('{}  |  Epoch {}  |  Training loss {:.3f}'.format(\n",
    "                datetime.now().time(), epoch, loss_train / n_batch))\n",
    "             \n",
    "            \n",
    "    return losses_train"
   ]
  },
  {
   "cell_type": "markdown",
   "id": "a69af540",
   "metadata": {},
   "source": [
    "## 3.4 Compute accuracy<a name='computeaccuracy'></a>\n",
    "The `compute_accuracy()` computes the accuracy of how god the model predicts the labels of a given datasett.\n",
    "\n",
    "This is done by a `for` loop where `torch.no_grad()` helps the computation go faster by not calculating the gradients since the weight parameters are not being updated. \n",
    "\n",
    "`_, predicted = torch.max(outputs, dim=1)` stores the indices of the highest outputvalue between the 2 outputs `Airplane` and `Not`. \n",
    "\n"
   ]
  },
  {
   "cell_type": "code",
   "execution_count": 21,
   "id": "3a06d92e",
   "metadata": {},
   "outputs": [],
   "source": [
    "def compute_accuracy(model, loader):\n",
    "    model.eval()\n",
    "    correct = 0 # The correct predictions is calculated by adding 1 for each time the predicted \n",
    "                #index values is the same as the true label.\n",
    "    total = 0\n",
    "\n",
    "    with torch.no_grad():\n",
    "        for imgs, labels in loader: \n",
    "\n",
    "            outputs = model(imgs)\n",
    "            _, predicted = torch.max(outputs, dim=1)\n",
    "            total += labels.shape[0]  # The count of total imgs is done by adding the sum of all the batch sizes.\n",
    "            correct += int((predicted == labels).sum())\n",
    "\n",
    "    acc =  correct / total # Accuracy is computed by dividing correct predictions to the total number of imgs.\n",
    "    print(\"Accuracy: {:.2f}\".format(acc))\n",
    "    return acc"
   ]
  },
  {
   "cell_type": "markdown",
   "id": "34b75bb6",
   "metadata": {},
   "source": [
    "## 3.5 Compute Prediction<a name='computeprediction'></a>\n",
    "The `compute_prediction()` defines a function that takes a trained model and a data loader as input arguments. The purpose of this function is to compute the model's predictions on the provided data, output the softmax probabilities for each class so how shure the model is. Then it prints the final predicted class labels.\n",
    "\n",
    "This function is build on the `compute_accuracy()` function so `model.eval()` and `torch.no_grad()` has the same purpose here. whats different in the prediction function is that it only focus on what the model (My_CNN) predicts, and not what the true labels are. `imgs.view(-1, 3, 32, 32)` reshapes the images dimension.\n",
    "\n",
    "The output scores are converted to softmax probabilities using `F.softmax(outputs, dim=1)`. \n",
    "These softmax predictions gets printed out by turning the the valus into NumPy.\n",
    "`torch.max()` gets the highest softmax probability\n",
    "\n",
    "## 3.6 Confusion Matrix<a name='CM'></a>\n",
    "\n",
    "Makes a matrix to find out if a prediction is ether the following: true positive, false positive, false negative, true negative. It also calculates the accuracy of the predictions."
   ]
  },
  {
   "cell_type": "code",
   "execution_count": 6,
   "id": "5d9b441e",
   "metadata": {},
   "outputs": [],
   "source": [
    "def compute_prediction(model, loader):\n",
    "    model.eval() \n",
    "\n",
    "    with torch.no_grad():\n",
    "        for data in loader:\n",
    "            if len(data) == 2:\n",
    "                imgs, labels = data\n",
    "            else:\n",
    "                imgs = data[0]\n",
    "            \n",
    "                \n",
    "            imgs = imgs.float() # The `imgs.float()` turns makes it possible for the tensors to have desimal numbers. \n",
    "            imgs = imgs.view(-1, 3, 32, 32) # -1 is the place for batch size, 3 is for the RGB-colours.\n",
    "                                            #`32, 32` is the pixel size respetivly width, height.\n",
    "                \n",
    "\n",
    "            outputs = model(imgs) # the `outputs` processes the imgs in the model\n",
    "                                  # and produces outputs score between the two parameters `Not` and `Airplane`. \n",
    "            \n",
    "            softmax_probs = F.softmax(outputs, dim=1) # The softmax function normalizes the scores to produce probability values in the range `[0,1]`\n",
    "            softmax_probs_np = softmax_probs.numpy()  # which sum to 1 across the two labels `Airplane` and `Not`.\n",
    "            print(\"Softmax probabilities: [{:.2f}, {:.2f}]\".format(softmax_probs_np[0, 0], softmax_probs_np[0, 1]))\n",
    "            \n",
    "            _, predicted = torch.max(outputs, dim=1)\n",
    "    print(\"Not =\",\"[0]\", \"Airplane =\",\"[1]\")\n",
    "    return print(\"Predicted:\", predicted.numpy())"
   ]
  },
  {
   "cell_type": "code",
   "execution_count": 7,
   "id": "41fa73ba",
   "metadata": {},
   "outputs": [],
   "source": [
    "def confusion_matrix(model, loader):\n",
    "    model.eval()\n",
    "    num_classes = 2\n",
    "    matrix = np.zeros((num_classes, num_classes), dtype=int)\n",
    "\n",
    "    with torch.no_grad():\n",
    "        for imgs, labels in loader:\n",
    "            outputs = model(imgs)\n",
    "            _, predicted = torch.max(outputs, dim=1)\n",
    "            \n",
    "            for i in range(len(labels)):\n",
    "                true_label = labels[i]\n",
    "                pred_label = predicted[i]\n",
    "                matrix[true_label, pred_label] += 1\n",
    "\n",
    "    print(\"Confusion Matrix:\")\n",
    "    print(\"[True Positive, False Positive]\")\n",
    "    print(\"[False Negative, True Negative]\")\n",
    "    print(matrix)\n",
    "    \n",
    "    acc = np.trace(matrix) / np.sum(matrix)\n",
    "    print(\"Accuracy: {:.2f}\".format(acc))\n",
    "    return matrix"
   ]
  },
  {
   "cell_type": "markdown",
   "id": "fdb6b730",
   "metadata": {},
   "source": [
    "## 3.7 Dataloaders<a name='DL'></a>\n",
    "Using Pytorch's `Dataloader` function. The point of doing so is for loading and batching the datasets for traing, validation and testing. This function also let the `train_loader` be shuffeled for minimizing that the model looks for the wrong patterns. This is not needed for `val_loader` and `test_loader` since the model is then trained and the model is evaluated on the whole dataset."
   ]
  },
  {
   "cell_type": "code",
   "execution_count": 8,
   "id": "22e4f5b1",
   "metadata": {},
   "outputs": [],
   "source": [
    "train_loader = torch.utils.data.DataLoader(cifar2_train, batch_size=200, shuffle=True)\n",
    "val_loader = torch.utils.data.DataLoader(cifar2_val, batch_size=200, shuffle=False)\n",
    "test_loader = torch.utils.data.DataLoader(cifar2_test, batch_size=200, shuffle=False)"
   ]
  },
  {
   "cell_type": "markdown",
   "id": "51920d6b",
   "metadata": {},
   "source": [
    "## 3.8 Running the `train` function<a name='runtrain'></a>\n",
    "\n",
    "Here the the model `MyCNN` gets trained using `train`.\n",
    "- `seed(123)`is used for reproducibility\n",
    "- `model_MyCNN` stores the weights that gets tuned in `MyCNN()`.\n",
    "- The loss function uses `CrossEntropyLoss()` to find the loss value for how much the weights should be tuned.\n",
    "- The `optimizer` uses a Stochastic gradient descent (SGD) to update the weight and bias parameters. it has a learing rate of 0.03, this tells how much its possible for weights to be changed for each round.\n",
    "- The traing of `MyCNN` has 20 epochs and uses `train_loader`\n",
    "\n",
    "Ass you can see the loss values goes down for each epoch. This is a good thing and means that the weights gets better tuned towards predicting the true labels from the `train_loader`.\n"
   ]
  },
  {
   "cell_type": "code",
   "execution_count": 11,
   "id": "b5a53cf7",
   "metadata": {},
   "outputs": [
    {
     "name": "stdout",
     "output_type": "stream",
     "text": [
      "20:07:20.008552  |  Epoch 1  |  Training loss 0.350\n",
      "20:07:59.092650  |  Epoch 10  |  Training loss 0.214\n",
      "20:08:45.291952  |  Epoch 20  |  Training loss 0.169\n"
     ]
    },
    {
     "data": {
      "text/plain": [
       "[0.3495679709646437,\n",
       " 0.2778579315212038,\n",
       " 0.2628097973267237,\n",
       " 0.2539185044500563,\n",
       " 0.24332306808895535,\n",
       " 0.23492653124862248,\n",
       " 0.22852352970176273,\n",
       " 0.22257583061854044,\n",
       " 0.21868766327699027,\n",
       " 0.2144341611199909,\n",
       " 0.21022162483798132,\n",
       " 0.2040265169739723,\n",
       " 0.19766395893361832,\n",
       " 0.19479556411504745,\n",
       " 0.18775889303949145,\n",
       " 0.184784477353096,\n",
       " 0.17911783960130478,\n",
       " 0.17509594132502873,\n",
       " 0.17285149448447756,\n",
       " 0.1693012143174807]"
      ]
     },
     "execution_count": 11,
     "metadata": {},
     "output_type": "execute_result"
    }
   ],
   "source": [
    "torch.manual_seed(123)\n",
    "model_MyCNN = MyCNN()\n",
    "loss_fn = nn.CrossEntropyLoss()\n",
    "\n",
    "\n",
    "optimizer = optim.SGD(model_MyCNN.parameters(), lr=0.03)\n",
    "\n",
    "loss_train = train(20, optimizer, model_MyCNN, loss_fn, train_loader)\n",
    "loss_train"
   ]
  },
  {
   "cell_type": "markdown",
   "id": "dd146db9",
   "metadata": {},
   "source": [
    "## 3.9 Results<a name='results'></a>\n",
    "The accuracy of the model is respectivly 94% on `train_loader`, 93% on `val_loader` and 93% on `test_loader`. I think this is some fairly good results, but i have to mentin that the datasets has a favor of pictures that are not Airplane in fact `Airplane` is $1/10$ of the imgs while $9/10$ is `Not`. The results of confusion matrix is following: $8823$ true positive, $177$ false positive, $488$ false negative, $512$ true negative."
   ]
  },
  {
   "cell_type": "code",
   "execution_count": 12,
   "id": "49949129",
   "metadata": {},
   "outputs": [
    {
     "name": "stdout",
     "output_type": "stream",
     "text": [
      "Accuracy: 0.94\n"
     ]
    },
    {
     "data": {
      "text/plain": [
       "0.9400444444444445"
      ]
     },
     "execution_count": 12,
     "metadata": {},
     "output_type": "execute_result"
    }
   ],
   "source": [
    "compute_accuracy(model_MyCNN, train_loader)"
   ]
  },
  {
   "cell_type": "code",
   "execution_count": 13,
   "id": "1fd06615",
   "metadata": {},
   "outputs": [
    {
     "name": "stdout",
     "output_type": "stream",
     "text": [
      "Accuracy: 0.93\n"
     ]
    },
    {
     "data": {
      "text/plain": [
       "0.9348"
      ]
     },
     "execution_count": 13,
     "metadata": {},
     "output_type": "execute_result"
    }
   ],
   "source": [
    "compute_accuracy(model_MyCNN, val_loader)"
   ]
  },
  {
   "cell_type": "code",
   "execution_count": 14,
   "id": "8be6aeba",
   "metadata": {},
   "outputs": [
    {
     "name": "stdout",
     "output_type": "stream",
     "text": [
      "Accuracy: 0.93\n"
     ]
    },
    {
     "data": {
      "text/plain": [
       "0.9335"
      ]
     },
     "execution_count": 14,
     "metadata": {},
     "output_type": "execute_result"
    }
   ],
   "source": [
    "compute_accuracy(model_MyCNN, test_loader)"
   ]
  },
  {
   "cell_type": "code",
   "execution_count": 15,
   "id": "de1974f4",
   "metadata": {},
   "outputs": [
    {
     "name": "stdout",
     "output_type": "stream",
     "text": [
      "Confusion Matrix:\n",
      "[True Positive, False Positive]\n",
      "[False Negative, True Negative]\n",
      "[[8823  177]\n",
      " [ 488  512]]\n",
      "Accuracy: 0.93\n"
     ]
    }
   ],
   "source": [
    "cm_test = confusion_matrix(model_MyCNN, test_loader)"
   ]
  },
  {
   "cell_type": "markdown",
   "id": "c724d952",
   "metadata": {},
   "source": [
    "## 3.10 Clasification of a new independent picture of `Airplane`<a name='newimgs'></a>\n",
    "\n",
    "- `resize()` reshapes the dimensions, `transforms.ToTensor()` turns the img to PyTorch tensor, `transforms.Compose()` makes sure that both transformations gets done.\n",
    "- At the end transformed img is saved in `img_tensor` an then a extra dimension is added `img_tensor.unsqueeze(0)` \n",
    "\n",
    "\n",
    "In `compute_prediction()` of `plane2.jpg` the model predicts the right label `Airplane`. The `Softmax` shows that the model predicts `Airplane` with 56% certanty. For large and complext image recognition models it would be expected to have higher confidence in `softmax predictions`. One way that could help make the `Softmax` prediction better, is to shrink the number of the imgs labeled `Not` the same size as all `Airplane` labeled imgs so the dataset is 50/50 of the two labels.\n"
   ]
  },
  {
   "cell_type": "code",
   "execution_count": 16,
   "id": "4efde389",
   "metadata": {},
   "outputs": [
    {
     "data": {
      "image/png": "[encoded data removed]",
      "text/plain": [
       "<Figure size 640x480 with 1 Axes>"
      ]
     },
     "metadata": {},
     "output_type": "display_data"
    }
   ],
   "source": [
    "# The img `plane2.jpg`gets visulized\n",
    "img=mpimg.imread('plane2.jpg')\n",
    "imgplot = plt.imshow(img)\n",
    "\n",
    "image = Image.open('plane2.jpg') # The img gets opened using PIL libary and transformed so the tensor dimension can be interpreted by the model.\n",
    "\n",
    "transform = transforms.Compose([\n",
    "    transforms.Resize((32, 32)), #Transforms the airplane picture to the right dimension size 32*32\n",
    "    transforms.ToTensor()       # The same pixel size as pictures in cifar10\n",
    "])                              # Then the picture gets converted to tensor\n",
    "                                # This reconstruction of the original img gives the following resulting shape: `(1,3,32,32)`\n",
    "\n",
    "img_tensor = transform(image)  #Making airplane.jpg go through \"transform\"\n",
    "\n",
    "# Add an extra dimension for the batch size (1 in this case)\n",
    "img_tensor = img_tensor.unsqueeze(0)"
   ]
  },
  {
   "cell_type": "code",
   "execution_count": 17,
   "id": "d60d140d",
   "metadata": {},
   "outputs": [
    {
     "name": "stdout",
     "output_type": "stream",
     "text": [
      "Softmax probabilities: [0.44, 0.56]\n",
      "Not = [0] Airplane = [1]\n",
      "Predicted: [1]\n"
     ]
    }
   ],
   "source": [
    "compute_prediction(model_MyCNN, [(img_tensor,)])"
   ]
  }
 ],
 "metadata": {
  "kernelspec": {
   "display_name": "Python 3 (ipykernel)",
   "language": "python",
   "name": "python3"
  },
  "language_info": {
   "codemirror_mode": {
    "name": "ipython",
    "version": 3
   },
   "file_extension": ".py",
   "mimetype": "text/x-python",
   "name": "python",
   "nbconvert_exporter": "python",
   "pygments_lexer": "ipython3",
   "version": "3.9.13"
  }
 },
 "nbformat": 4,
 "nbformat_minor": 5
}
