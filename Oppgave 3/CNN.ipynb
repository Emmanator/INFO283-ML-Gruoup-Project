{
 "cells": [
  {
   "cell_type": "code",
   "execution_count": 129,
   "id": "162233a2",
   "metadata": {},
   "outputs": [
    {
     "data": {
      "text/plain": [
       "<torch._C.Generator at 0x7fbff05a7930>"
      ]
     },
     "execution_count": 129,
     "metadata": {},
     "output_type": "execute_result"
    }
   ],
   "source": [
    "import numpy as np\n",
    "import torch\n",
    "import torch.nn as nn\n",
    "import torch.optim as optim\n",
    "from datetime import datetime\n",
    "from torchvision import datasets, transforms\n",
    "from torch.utils.data import random_split\n",
    "from matplotlib import pyplot as plt\n",
    "\n",
    "torch.manual_seed(123)"
   ]
  },
  {
   "cell_type": "code",
   "execution_count": 130,
   "id": "5b298be9",
   "metadata": {},
   "outputs": [
    {
     "name": "stdout",
     "output_type": "stream",
     "text": [
      "Files already downloaded and verified\n",
      "Files already downloaded and verified\n"
     ]
    }
   ],
   "source": [
    "# Based on code from the pytorch tutorials\n",
    "\n",
    "data_path = '../data/'\n",
    "bp_filter = lambda x: x[1] in [0,1] # Bird and Plane Filter. Or if you will, Everything but Bird and Plane Filter\n",
    "preprocessor = transforms.Compose([\n",
    "            transforms.ToTensor(),\n",
    "            transforms.Normalize((0.4915, 0.4823, 0.4468),\n",
    "                                (0.2470, 0.2435, 0.2616))\n",
    "        ])\n",
    "\n",
    "cifar10_train_val = list(filter(bp_filter, datasets.CIFAR10(data_path, train=True, download=True, transform=preprocessor)))\n",
    "cifar10_test = list(filter(bp_filter, datasets.CIFAR10(data_path, train=False, download=True, transform=preprocessor)))\n",
    "\n",
    "label_map = {0: 1, 1: 0, 2: 0, 3: 0, 4: 0, 5: 0, 6: 0, 7: 0, 8: 0, 9: 0}\n",
    "class_names = ['not', 'airplane']\n",
    "\n",
    "# For each dataset, keep only airplanes and birds\n",
    "#cifar2_train_val = [(img, label_map[label]) for img, label in cifar10_train_val if label in [0, 2]]\n",
    "#cifar2_test = [(img, label_map[label]) for img, label in cifar10_test if label in [0, 2]]\n",
    "\n",
    "cifar2_train_val = [(img, label_map[label]) for img, label in cifar10_train_val]\n",
    "cifar2_test = [(img, label_map[label]) for img, label in cifar10_test]\n",
    "\n",
    "\n",
    "n_train = int(len(cifar2_train_val)*0.90)\n",
    "n_val =  len(cifar2_train_val) - n_train\n",
    "cifar2_train, cifar2_val = random_split(\n",
    "        cifar2_train_val, \n",
    "        [n_train, n_val],\n",
    "        generator=torch.Generator().manual_seed(123)\n",
    ")\n"
   ]
  },
  {
   "cell_type": "code",
   "execution_count": null,
   "id": "935b4e62",
   "metadata": {},
   "outputs": [],
   "source": []
  },
  {
   "cell_type": "code",
   "execution_count": 131,
   "id": "0b496a79",
   "metadata": {},
   "outputs": [],
   "source": [
    "class MyMLP(nn.Module):\n",
    "    def __init__(self):\n",
    "        super().__init__()  # to inherit the '__init__' method from the 'nn.Module' class\n",
    "        # Add whatever you want here (e.g layers and activation functions)\n",
    "        # The order and names don't matter here but it is easier to understand\n",
    "        # if you go for Layer1, fun1, layer2, fun2, etc\n",
    "        # Some conventions:\n",
    "        # - conv stands for convolution\n",
    "        # - pool for pooling\n",
    "        # - fc for fully connected\n",
    "\n",
    "        # 32*32*3: determined by our dataset: 32x32 RGB images\n",
    "        self.conv1 = nn.Conv2d(in_channels = 3, out_channels = 6, kernel_size = 5, stride = 1, padding = 0)\n",
    "        self.act1 = nn.ReLU()\n",
    "        self.pool1 = nn.MaxPool2d(kernel_size = 2, stride = 2, padding = 0)\n",
    "        \n",
    "        self.conv2 = nn.Conv2d(in_channels = 6, out_channels = 16, kernel_size = 5, stride = 1, padding = 0)\n",
    "        self.pool2 = nn.MaxPool2d(kernel_size = 2, stride = 2, padding = 0)\n",
    "        \n",
    "        self.conv3 = nn.Conv2d(in_channels = 16, out_channels = 120, kernel_size = 5, stride = 1, padding = 0)\n",
    "        \n",
    "        self.flat = nn.Flatten()\n",
    "        \n",
    "        self.fc1 = nn.Linear(in_features = 120 , out_features = 84) # 5 is height 8 is width and 120 is nr channels.\n",
    "        self.fc2 = nn.Linear(in_features = 84 , out_features = 10)\n",
    "        self.fc3 = nn.Linear(in_features = 10 , out_features = 2) #C + 5 components\n",
    "         \n",
    "        \n",
    "             \n",
    "\n",
    "    def forward(self, x):\n",
    "        # Now the order matters! \n",
    "        out = self.act1(self.conv1(x))\n",
    "        out = self.pool1(out)\n",
    "        out = self.act1(self.conv2(out))\n",
    "        out = self.pool2(out)\n",
    "        out = self.act1(self.conv3(out))\n",
    "        out = self.flat(out)\n",
    "        out = self.act1(self.fc1(out))\n",
    "        out = self.act1(self.fc2(out))\n",
    "        out = self.fc3(out)\n",
    "        \n",
    "        return out\n",
    "        "
   ]
  },
  {
   "cell_type": "code",
   "execution_count": 132,
   "id": "542af405",
   "metadata": {},
   "outputs": [],
   "source": [
    "def train(n_epochs, optimizer, model, loss_fn, train_loader):\n",
    "    \n",
    "    n_batch = len(train_loader)\n",
    "    \n",
    "    # We'll store there the training loss for each epoch\n",
    "    losses_train = []\n",
    "    \n",
    "    # Set the network in training mode\n",
    "    model.train()\n",
    "    \n",
    "    # Re-initialize gradients, just in case the model has been inappropriately \n",
    "    # manipulated before the training\n",
    "    optimizer.zero_grad(set_to_none=True)\n",
    "    \n",
    "    for epoch in range(1, n_epochs + 1): \n",
    "        \n",
    "        # Training loss for the current epoch\n",
    "        loss_train = 0\n",
    "\n",
    "        # Loop over our dataset (in batches the data loader creates for us)\n",
    "        for imgs, labels in train_loader:\n",
    "            \n",
    "            # Feed a batch into our model\n",
    "            outputs = model(imgs)\n",
    "            \n",
    "            # Compute the loss we wish to minimize \n",
    "            # Note that by default, it is the mean loss that is computed\n",
    "            # (so entire_batch_loss / batch_size)\n",
    "            loss = loss_fn(outputs, labels) \n",
    "            #print(loss)\n",
    "            \n",
    "            # Perform the backward step. That is, compute the gradients of all parameters we want the network to learn\n",
    "            loss.backward()\n",
    "            \n",
    "            # Update the model\n",
    "            optimizer.step() \n",
    "            \n",
    "            # Zero out gradients before the next round (or the end of training)\n",
    "            optimizer.zero_grad() \n",
    "\n",
    "            # Update loss for this epoch\n",
    "            # It is important to transform the loss to a number with .item()\n",
    "            loss_train += loss.item()\n",
    "            \n",
    "        # Store current epoch loss. \n",
    "        losses_train.append(loss_train / n_batch)\n",
    "        \n",
    "\n",
    "        if epoch == 1 or epoch % 10 == 0:\n",
    "            print('{}  |  Epoch {}  |  Training loss {:.3f}'.format(\n",
    "                datetime.now().time(), epoch, loss_train / n_batch))\n",
    "            print(losses_train) \n",
    "            \n",
    "    return losses_train"
   ]
  },
  {
   "cell_type": "code",
   "execution_count": null,
   "outputs": [],
   "source": [
    "def compute_accuracy(model, loader):\n",
    "    model.eval()\n",
    "    correct = 0\n",
    "    total = 0\n",
    "\n",
    "    # We do not want gradients here, as we will not want to update the parameters.\n",
    "    with torch.no_grad():\n",
    "        for imgs, labels in loader:\n",
    "\n",
    "            outputs = model(imgs)\n",
    "            _, predicted = torch.max(outputs, dim=1)\n",
    "            total += labels.shape[0]\n",
    "            correct += int((predicted == labels).sum())\n",
    "\n",
    "    acc =  correct / total\n",
    "    print(\"Accuracy: {:.2f}\".format(acc))\n",
    "    return acc"
   ],
   "metadata": {
    "collapsed": false
   }
  },
  {
   "cell_type": "code",
   "execution_count": 133,
   "id": "bb43d50f",
   "metadata": {},
   "outputs": [],
   "source": [
    "train_loader = torch.utils.data.DataLoader(cifar2_train, batch_size=200, shuffle=True)\n",
    "val_loader = torch.utils.data.DataLoader(cifar2_val, batch_size=200, shuffle=False)\n",
    "test_loader = torch.utils.data.DataLoader(cifar2_test, batch_size=200, shuffle=False)"
   ]
  },
  {
   "cell_type": "code",
   "execution_count": 134,
   "id": "abbc392d",
   "metadata": {},
   "outputs": [
    {
     "name": "stdout",
     "output_type": "stream",
     "text": [
      "09:41:02.244024  |  Epoch 1  |  Training loss 0.698\n",
      "[0.6983958270814684]\n",
      "09:41:48.541964  |  Epoch 10  |  Training loss 0.698\n",
      "[0.6983958270814684, 0.6983958217832777, 0.69839582045873, 0.6983958257569207, 0.698395828406016, 0.698395832379659, 0.6983958138359918, 0.6983958151605394, 0.6983958151605394, 0.6983958085378011]\n",
      "09:42:39.535235  |  Epoch 20  |  Training loss 0.698\n",
      "[0.6983958270814684, 0.6983958217832777, 0.69839582045873, 0.6983958257569207, 0.698395828406016, 0.698395832379659, 0.6983958138359918, 0.6983958151605394, 0.6983958151605394, 0.6983958085378011, 0.6983958178096348, 0.6983958164850871, 0.69839582045873, 0.6983958151605394, 0.6983958231078253, 0.6983958429760403, 0.6983958270814684, 0.6983958125114441, 0.6983958098623487, 0.6983958164850871]\n"
     ]
    },
    {
     "data": {
      "text/plain": [
       "[0.6983958270814684,\n",
       " 0.6983958217832777,\n",
       " 0.69839582045873,\n",
       " 0.6983958257569207,\n",
       " 0.698395828406016,\n",
       " 0.698395832379659,\n",
       " 0.6983958138359918,\n",
       " 0.6983958151605394,\n",
       " 0.6983958151605394,\n",
       " 0.6983958085378011,\n",
       " 0.6983958178096348,\n",
       " 0.6983958164850871,\n",
       " 0.69839582045873,\n",
       " 0.6983958151605394,\n",
       " 0.6983958231078253,\n",
       " 0.6983958429760403,\n",
       " 0.6983958270814684,\n",
       " 0.6983958125114441,\n",
       " 0.6983958098623487,\n",
       " 0.6983958164850871]"
      ]
     },
     "execution_count": 134,
     "metadata": {},
     "output_type": "execute_result"
    }
   ],
   "source": [
    "torch.manual_seed(123)\n",
    "model_MyMLP = MyMLP()\n",
    "loss_fn = nn.CrossEntropyLoss()\n",
    "\n",
    "\n",
    "optimizer = optim.SGD(model_MyMLP.parameters(), lr=0.03)\n",
    "# optimizer = optim.SGD(model_MyMLP.parameters(), lr=1e-2)\n",
    "# loss_train = train(10, optimizer, model_1, loss_fn, train_loader)\n",
    "\n",
    "train(20, optimizer, model_MyMLP, loss_fn, train_loader)\n",
    "\n",
    "loss_train = train(20, optimizer, model_MyMLP, loss_fn, train_loader)\n",
    "loss_train"
   ]
  },
  {
   "cell_type": "code",
   "execution_count": 136,
   "id": "f025b933",
   "metadata": {},
   "outputs": [
    {
     "name": "stdout",
     "output_type": "stream",
     "text": [
      "09:42:44.046047  |  Epoch 1  |  Training loss 0.698\n",
      "[0.6983958270814684]\n",
      "09:43:25.034933  |  Epoch 10  |  Training loss 0.698\n",
      "[0.6983958270814684, 0.6983958217832777, 0.69839582045873, 0.6983958257569207, 0.698395828406016, 0.698395832379659, 0.6983958138359918, 0.6983958151605394, 0.6983958151605394, 0.6983958085378011]\n",
      "09:44:16.725736  |  Epoch 20  |  Training loss 0.698\n",
      "[0.6983958270814684, 0.6983958217832777, 0.69839582045873, 0.6983958257569207, 0.698395828406016, 0.698395832379659, 0.6983958138359918, 0.6983958151605394, 0.6983958151605394, 0.6983958085378011, 0.6983958178096348, 0.6983958164850871, 0.69839582045873, 0.6983958151605394, 0.6983958231078253, 0.6983958429760403, 0.6983958270814684, 0.6983958125114441, 0.6983958098623487, 0.6983958164850871]\n",
      "Accuracy: 0.51\n"
     ]
    },
    {
     "data": {
      "text/plain": [
       "0.512"
      ]
     },
     "execution_count": 136,
     "metadata": {},
     "output_type": "execute_result"
    }
   ],
   "source": [
    "compute_accuracy(model_MyMLP, val_loader)"
   ]
  },
  {
   "cell_type": "code",
   "execution_count": 138,
   "id": "a450bc5b",
   "metadata": {},
   "outputs": [
    {
     "name": "stdout",
     "output_type": "stream",
     "text": [
      "Accuracy: 0.50\n"
     ]
    },
    {
     "data": {
      "text/plain": [
       "0.5"
      ]
     },
     "execution_count": 138,
     "metadata": {},
     "output_type": "execute_result"
    }
   ],
   "source": [
    "compute_accuracy(model_MyMLP, test_loader)"
   ]
  },
  {
   "cell_type": "code",
   "execution_count": null,
   "id": "67f05825",
   "metadata": {},
   "outputs": [],
   "source": []
  },
  {
   "cell_type": "code",
   "execution_count": null,
   "id": "505660db",
   "metadata": {},
   "outputs": [],
   "source": []
  },
  {
   "cell_type": "code",
   "execution_count": null,
   "id": "31d5c09a",
   "metadata": {},
   "outputs": [],
   "source": []
  }
 ],
 "metadata": {
  "kernelspec": {
   "display_name": "Python 3 (ipykernel)",
   "language": "python",
   "name": "python3"
  },
  "language_info": {
   "codemirror_mode": {
    "name": "ipython",
    "version": 3
   },
   "file_extension": ".py",
   "mimetype": "text/x-python",
   "name": "python",
   "nbconvert_exporter": "python",
   "pygments_lexer": "ipython3",
   "version": "3.9.13"
  }
 },
 "nbformat": 4,
 "nbformat_minor": 5
}
